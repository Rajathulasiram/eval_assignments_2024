{
 "cells": [
  {
   "cell_type": "code",
   "execution_count": 11,
   "id": "8fa84d70",
   "metadata": {},
   "outputs": [
    {
     "name": "stdout",
     "output_type": "stream",
     "text": [
      "['Mumbai', 'Chennai']\n"
     ]
    }
   ],
   "source": [
    "# Q2)l1=['Hyd','Mumbai','Chennai','blr']\n",
    "#  ans=['Mumbai','Chennai']  \n",
    "#  we want lements which are len of element >4\n",
    "\n",
    "l1=['Hyd','Mumbai','Chennai','blr']\n",
    "ans=[]\n",
    "for i in l1:\n",
    "    if len(i)>4:\n",
    "        ans.append(i)\n",
    "print(ans)"
   ]
  },
  {
   "cell_type": "code",
   "execution_count": 16,
   "id": "729ffca1",
   "metadata": {},
   "outputs": [
    {
     "name": "stdout",
     "output_type": "stream",
     "text": [
      "Mum#bai\n",
      "Chen#nai\n"
     ]
    }
   ],
   "source": [
    "# Q3)l1=['Hyd','Mum#bai','Chen#nai','blr']\n",
    "#  ans=['Mum#bai'',Chen#nai']  \n",
    "#  we want elements which are having '#'\n",
    "\n",
    "l1=['Hyd','Mum#bai','Chen#nai','blr']\n",
    "for i in l1:\n",
    "    if '#' in i:\n",
    "        print(i)\n"
   ]
  },
  {
   "cell_type": "code",
   "execution_count": 22,
   "id": "852a58c9",
   "metadata": {},
   "outputs": [
    {
     "data": {
      "text/plain": [
       "['Mumbai', 'Chennai']"
      ]
     },
     "execution_count": 22,
     "metadata": {},
     "output_type": "execute_result"
    }
   ],
   "source": [
    "# Q4)l1=['hyd','mumbai','chennai','blr']\n",
    "#  ans= ['Mumbai','Chennai']\n",
    "#  we want elements which are len of element >4\n",
    "\n",
    "l1=['hyd','mumbai','chennai','blr']\n",
    "ans=[]\n",
    "for s in l1:\n",
    "    if len(s)>4:\n",
    "        ans.append(s.capitalize())\n",
    "ans"
   ]
  },
  {
   "cell_type": "code",
   "execution_count": 34,
   "id": "f012ca0d",
   "metadata": {},
   "outputs": [
    {
     "name": "stdout",
     "output_type": "stream",
     "text": [
      "['Hyd', 'Mumbai']\n"
     ]
    }
   ],
   "source": [
    "# Q5)l1=['Hyd','Mumbai','chennai','blr']\n",
    "#  ans= ['Hyd','Mumbai']\n",
    "#  we want lements which are having first letter capital\n",
    "\n",
    "l1=['Hyd','Mumbai','chennai','blr']\n",
    "ans=[]\n",
    "for i in l1:\n",
    "    if i.istitle():\n",
    "        ans.append(i)\n",
    "print(ans)"
   ]
  },
  {
   "cell_type": "code",
   "execution_count": 36,
   "id": "3d4702f6",
   "metadata": {},
   "outputs": [
    {
     "name": "stdout",
     "output_type": "stream",
     "text": [
      "['Mum#bai', 'Chen#nai']\n"
     ]
    }
   ],
   "source": [
    "# Q6)l1=['Hyd','Mum#bai','Chen#nai','blr']\n",
    "#  ans_#=['Mum#bai'',Chen#nai']  \n",
    "#  ans_without_#=['Hyd'','blr']\n",
    "#  we want lements which are having '#'\n",
    "\n",
    "l1=['Hyd','Mum#bai','Chen#nai','blr']\n",
    "ans=[]\n",
    "for i in l1:\n",
    "    if '#' in i:\n",
    "        ans.append(i)\n",
    "print(ans)"
   ]
  },
  {
   "cell_type": "code",
   "execution_count": 8,
   "id": "0194baec",
   "metadata": {},
   "outputs": [
    {
     "name": "stdout",
     "output_type": "stream",
     "text": [
      "enter the value: 10\n",
      "enter the value: 25\n",
      "enter the value: 36\n",
      "enter the value: 29\n",
      "enter the value: 10\n",
      " the even list [10, 36, 10]\n",
      "the odd list [25, 29]\n"
     ]
    }
   ],
   "source": [
    "# Q7) ask the user get 5 numbers randomly\n",
    "#     even_list and odd_list\n",
    "#     even numbers should append at even_list\n",
    "#     odd number should append at odd_list\n",
    "even_l=[]\n",
    "odd_l=[]\n",
    "for i in range(5):\n",
    "    n=eval(input(\"enter the value: \"))\n",
    "    if n%2==0:\n",
    "        even_l.append(n)\n",
    "    else:\n",
    "        odd_l.append(n)\n",
    "        \n",
    "print(\" the even list\",even_l)    \n",
    "print(\"the odd list\",odd_l)   "
   ]
  },
  {
   "cell_type": "code",
   "execution_count": 17,
   "id": "d990f763",
   "metadata": {},
   "outputs": [
    {
     "name": "stdout",
     "output_type": "stream",
     "text": [
      "hello\n",
      "10\n"
     ]
    }
   ],
   "source": [
    "# Q8) str='hello hai how are you'\n",
    "# Maximum len of word using split and max method\n",
    "# sum of all the indexes of the maximum len of word using append\n",
    "\n",
    "\n",
    "string1='hello hai how are you'\n",
    "max_size=-1\n",
    "s=list(string1.split())\n",
    "l4=[]\n",
    "ind=0\n",
    "for i in s:\n",
    "    if len(i)>max_size:\n",
    "        max_size=len(i)\n",
    "        k=i\n",
    "        l4.append(j)\n",
    "for j in range(len(k)):\n",
    "    ind=ind+j\n",
    "print(k)\n",
    "\n",
    "print(ind)"
   ]
  },
  {
   "cell_type": "code",
   "execution_count": 2,
   "id": "2d920c19",
   "metadata": {},
   "outputs": [],
   "source": []
  },
  {
   "cell_type": "code",
   "execution_count": 24,
   "id": "3ef5ed70",
   "metadata": {},
   "outputs": [
    {
     "name": "stdout",
     "output_type": "stream",
     "text": [
      "first names: ['virat', ' Rohit', ' KL']\n",
      "Last names: ['kohli', 'sharma', 'Rahul']\n",
      "Domain: ['rcb.com', 'mi.co', 'lucknow.com']\n"
     ]
    }
   ],
   "source": [
    "# Q9) str1='virat.kohli@rcb.com, Rohit.sharma@mi.co, KL.Rahul@lucknow.com'\n",
    "# Firstname=[]  second name=[]  cname =[]\n",
    "# append first name should be in first name list\n",
    "#        second name shoul be in second name list\n",
    "#        thirs name will be in thirs name list\n",
    "\n",
    "str1='virat.kohli@rcb.com, Rohit.sharma@mi.co, KL.Rahul@lucknow.com'\n",
    "str2=str1.split(',')\n",
    "Firstname=[]\n",
    "secondname=[]\n",
    "c_name =[]\n",
    "for i in str2:\n",
    "    i1=i.split('@')\n",
    "    names=i1[0].split('.')\n",
    "    first_name=names[0]\n",
    "    second_name=names[1]\n",
    "    cname=i1[1]\n",
    "    Firstname.append(first_name)\n",
    "    secondname.append(second_name)\n",
    "    c_name.append(cname)\n",
    "print(\"first names:\",Firstname)\n",
    "print(\"Last names:\",secondname)\n",
    "print(\"Domain:\",c_name)"
   ]
  },
  {
   "cell_type": "code",
   "execution_count": 1,
   "id": "a54e36f0",
   "metadata": {},
   "outputs": [
    {
     "name": "stdout",
     "output_type": "stream",
     "text": [
      "What is capital of Indiadelhi\n",
      "Who is PM of indiamodi\n",
      "Who is ICT ODI captianrohit\n",
      "0\n"
     ]
    }
   ],
   "source": [
    "# 10 )\n",
    "#  You have two lists\n",
    "# qns=['What is capital of India','Who is PM of india','Who is ICT ODI captian']\n",
    "# ans = ['Delhi','Modi','Rohit']\n",
    "\n",
    "# For i in qns:\n",
    "#     print(i)\n",
    "#     ans= delhi\n",
    "#      index should match\n",
    "#      delhi  modi\n",
    "#      marks= marks+1\n",
    "# print the total marksz\n",
    "\n",
    "\n",
    "qns=['What is capital of India','Who is PM of india','Who is ICT ODI captian']\n",
    "ans_list=['Delhi','Modi','Rohit']\n",
    "marks=0\n",
    "for i in range(len(qns)):\n",
    "    ans=input(qns[i])\n",
    "    if ans.lower==ans_list[i].lower():\n",
    "        marks+=1\n",
    "print(marks)"
   ]
  },
  {
   "cell_type": "code",
   "execution_count": 2,
   "id": "a89c702b",
   "metadata": {},
   "outputs": [
    {
     "data": {
      "text/plain": [
       "['__add__',\n",
       " '__class__',\n",
       " '__class_getitem__',\n",
       " '__contains__',\n",
       " '__delattr__',\n",
       " '__delitem__',\n",
       " '__dir__',\n",
       " '__doc__',\n",
       " '__eq__',\n",
       " '__format__',\n",
       " '__ge__',\n",
       " '__getattribute__',\n",
       " '__getitem__',\n",
       " '__gt__',\n",
       " '__hash__',\n",
       " '__iadd__',\n",
       " '__imul__',\n",
       " '__init__',\n",
       " '__init_subclass__',\n",
       " '__iter__',\n",
       " '__le__',\n",
       " '__len__',\n",
       " '__lt__',\n",
       " '__mul__',\n",
       " '__ne__',\n",
       " '__new__',\n",
       " '__reduce__',\n",
       " '__reduce_ex__',\n",
       " '__repr__',\n",
       " '__reversed__',\n",
       " '__rmul__',\n",
       " '__setattr__',\n",
       " '__setitem__',\n",
       " '__sizeof__',\n",
       " '__str__',\n",
       " '__subclasshook__',\n",
       " 'append',\n",
       " 'clear',\n",
       " 'copy',\n",
       " 'count',\n",
       " 'extend',\n",
       " 'index',\n",
       " 'insert',\n",
       " 'pop',\n",
       " 'remove',\n",
       " 'reverse',\n",
       " 'sort']"
      ]
     },
     "execution_count": 2,
     "metadata": {},
     "output_type": "execute_result"
    }
   ],
   "source": [
    "dir(list)"
   ]
  },
  {
   "cell_type": "code",
   "execution_count": null,
   "id": "d74b87bc",
   "metadata": {},
   "outputs": [],
   "source": [
    " 'clear',\n",
    " 'copy',\n",
    " 'count',\n",
    " 'extend',\n",
    " 'index',\n",
    " 'insert',\n",
    " 'pop',\n",
    " 'remove',\n",
    " 'reverse',\n",
    " 'sort'"
   ]
  },
  {
   "cell_type": "code",
   "execution_count": null,
   "id": "5de652cf",
   "metadata": {},
   "outputs": [],
   "source": [
    "l1=[1,2,3,4,5]\n",
    "l1"
   ]
  },
  {
   "cell_type": "code",
   "execution_count": null,
   "id": "c684f34c",
   "metadata": {},
   "outputs": [],
   "source": []
  },
  {
   "cell_type": "code",
   "execution_count": null,
   "id": "8f907e1e",
   "metadata": {},
   "outputs": [],
   "source": []
  },
  {
   "cell_type": "code",
   "execution_count": null,
   "id": "b63d71a4",
   "metadata": {},
   "outputs": [],
   "source": []
  }
 ],
 "metadata": {
  "kernelspec": {
   "display_name": "Python 3 (ipykernel)",
   "language": "python",
   "name": "python3"
  },
  "language_info": {
   "codemirror_mode": {
    "name": "ipython",
    "version": 3
   },
   "file_extension": ".py",
   "mimetype": "text/x-python",
   "name": "python",
   "nbconvert_exporter": "python",
   "pygments_lexer": "ipython3",
   "version": "3.10.9"
  }
 },
 "nbformat": 4,
 "nbformat_minor": 5
}
