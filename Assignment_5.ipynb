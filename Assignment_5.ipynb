{
 "cells": [
  {
   "cell_type": "markdown",
   "id": "3f58342b",
   "metadata": {},
   "source": [
    " 1)wap ask the user enter 3 numbers calculate average"
   ]
  },
  {
   "cell_type": "code",
   "execution_count": 6,
   "id": "9fa13162",
   "metadata": {},
   "outputs": [
    {
     "name": "stdout",
     "output_type": "stream",
     "text": [
      "3.0\n"
     ]
    }
   ],
   "source": [
    "\n",
    "def avg():\n",
    "    num1=2\n",
    "    num2=3\n",
    "    num3=4\n",
    "    avg1=(num1+num2+num3)/3\n",
    "    print(avg1)\n",
    "avg()\n",
    "\n"
   ]
  },
  {
   "cell_type": "code",
   "execution_count": 9,
   "id": "4b39bd63",
   "metadata": {},
   "outputs": [
    {
     "name": "stdout",
     "output_type": "stream",
     "text": [
      "20.0\n"
     ]
    }
   ],
   "source": [
    "def avg(n1,n2,n3):\n",
    "    avg1=(n1+n2+n3)/3\n",
    "    print(avg1)\n",
    "avg(20,30,10)"
   ]
  },
  {
   "cell_type": "markdown",
   "id": "81e66f04",
   "metadata": {},
   "source": [
    "2)wap ask the uer enter radius values find the area of the circle"
   ]
  },
  {
   "cell_type": "code",
   "execution_count": 18,
   "id": "ba1ad507",
   "metadata": {},
   "outputs": [
    {
     "name": "stdout",
     "output_type": "stream",
     "text": [
      "the area of the circle: 314.0\n"
     ]
    }
   ],
   "source": [
    "def area():\n",
    "    radius=10\n",
    "    pi=3.14\n",
    "    area_of_circle=pi*radius*radius\n",
    "    print(\"the area of the circle:\",area_of_circle)\n",
    "area()"
   ]
  },
  {
   "cell_type": "code",
   "execution_count": 19,
   "id": "00c64cd7",
   "metadata": {},
   "outputs": [
    {
     "name": "stdout",
     "output_type": "stream",
     "text": [
      "the area of circle is: 314.0\n"
     ]
    }
   ],
   "source": [
    "def area(radius,pi):\n",
    "    area_of_circle=pi*radius*radius\n",
    "    print(\"the area of circle is:\",area_of_circle)\n",
    "area(10,3.14)"
   ]
  },
  {
   "cell_type": "markdown",
   "id": "8da3e22d",
   "metadata": {},
   "source": [
    "3)wap ask the user bill amount,\n",
    "ask the user how much tip you want pay in percentage\n",
    "calculate totalbill"
   ]
  },
  {
   "cell_type": "code",
   "execution_count": 24,
   "id": "bfa57b33",
   "metadata": {},
   "outputs": [
    {
     "name": "stdout",
     "output_type": "stream",
     "text": [
      "enter the value: 500\n",
      "enter the value: 10\n",
      "tip amount: 50.0\n",
      "total billid: 550.0\n"
     ]
    }
   ],
   "source": [
    "def total_bill_amount_1():\n",
    "    user_bill=eval(input(\"enter the value: \"))\n",
    "    tip_percentage=eval(input(\"enter the value: \"))\n",
    "    tip_amount=user_bill * (tip_percentage/100)\n",
    "    total_bill_amount=user_bill + tip_amount\n",
    "    print(\"tip amount:\",tip_amount)\n",
    "    print(\"total billid:\",total_bill_amount)\n",
    "total_bill_amount_1()"
   ]
  },
  {
   "cell_type": "code",
   "execution_count": 25,
   "id": "eba866b2",
   "metadata": {},
   "outputs": [
    {
     "name": "stdout",
     "output_type": "stream",
     "text": [
      "tip amount: 50.0\n",
      "total billid: 550.0\n"
     ]
    }
   ],
   "source": [
    "def total_bill_amount_1(user_bill,tip_percentage):\n",
    "    tip_amount=user_bill * (tip_percentage/100)\n",
    "    total_bill_amount=user_bill + tip_amount\n",
    "    print(\"tip amount:\",tip_amount)\n",
    "    print(\"total billid:\",total_bill_amount)\n",
    "total_bill_amount_1(500,10)"
   ]
  },
  {
   "cell_type": "markdown",
   "id": "f31b92ac",
   "metadata": {},
   "source": [
    "4)wap ask the user enter base height calculate area of the traingle"
   ]
  },
  {
   "cell_type": "code",
   "execution_count": 28,
   "id": "c72cc75d",
   "metadata": {},
   "outputs": [
    {
     "name": "stdout",
     "output_type": "stream",
     "text": [
      "enter the value: 10\n",
      "enter the value: 10\n",
      "the area of the triangle is: 50.0\n"
     ]
    }
   ],
   "source": [
    "def area_of_triangle():\n",
    "    base=eval(input(\"enter the value: \"))\n",
    "    height=eval(input(\"enter the value: \"))\n",
    "    area=(0.5)*base*height\n",
    "    print(\"the area of the triangle is:\",area)\n",
    "area_of_triangle()"
   ]
  },
  {
   "cell_type": "code",
   "execution_count": 29,
   "id": "f3a1c39c",
   "metadata": {},
   "outputs": [
    {
     "name": "stdout",
     "output_type": "stream",
     "text": [
      "the area of the triangle is: 50.0\n"
     ]
    }
   ],
   "source": [
    "def area_of_triangle(base,height):\n",
    "    area=(0.5)*base*height\n",
    "    print(\"the area of the triangle is:\",area)\n",
    "area_of_triangle(10,10)"
   ]
  },
  {
   "cell_type": "markdown",
   "id": "e7c70dd7",
   "metadata": {},
   "source": [
    "5) wap ask the user enter length and breadth calculate area of the rectangle"
   ]
  },
  {
   "cell_type": "code",
   "execution_count": 30,
   "id": "f592ab1f",
   "metadata": {},
   "outputs": [
    {
     "name": "stdout",
     "output_type": "stream",
     "text": [
      "enter thye value: 10\n",
      "enter the value: 10\n",
      "the area og=f the rectangle: 100\n"
     ]
    }
   ],
   "source": [
    "def area():\n",
    "    length=eval(input(\"enter thye value: \"))\n",
    "    breadth=eval(input(\"enter the value: \"))\n",
    "    area_1=length*breadth\n",
    "    print(\"the area og=f the rectangle:\",area_1)\n",
    "area()"
   ]
  },
  {
   "cell_type": "code",
   "execution_count": 32,
   "id": "751b294d",
   "metadata": {},
   "outputs": [
    {
     "name": "stdout",
     "output_type": "stream",
     "text": [
      "the area og=f the rectangle: 100\n"
     ]
    }
   ],
   "source": [
    "def area(length,breadth):\n",
    "    area_1=length*breadth\n",
    "    print(\"the area og=f the rectangle:\",area_1)\n",
    "area(10,10)"
   ]
  },
  {
   "cell_type": "markdown",
   "id": "6d6271ba",
   "metadata": {},
   "source": [
    "6)wap ask the user enter a number,\n",
    "find it is a even number or odd number"
   ]
  },
  {
   "cell_type": "code",
   "execution_count": 35,
   "id": "905868f0",
   "metadata": {},
   "outputs": [
    {
     "name": "stdout",
     "output_type": "stream",
     "text": [
      "enter the value: 7\n",
      "odd\n"
     ]
    }
   ],
   "source": [
    "def even_odd():\n",
    "    num=eval(input(\"enter the value: \"))\n",
    "    if num%2==0:\n",
    "        print(\"even\")\n",
    "    else:\n",
    "        print(\"odd\")\n",
    "even_odd()"
   ]
  },
  {
   "cell_type": "code",
   "execution_count": 36,
   "id": "70b23301",
   "metadata": {},
   "outputs": [
    {
     "name": "stdout",
     "output_type": "stream",
     "text": [
      "even\n"
     ]
    }
   ],
   "source": [
    "def even_odd(num):\n",
    "    if num%2==0:\n",
    "        print(\"even\")\n",
    "    else:\n",
    "        print(\"odd\")\n",
    "even_odd(10)"
   ]
  },
  {
   "cell_type": "markdown",
   "id": "aae50427",
   "metadata": {},
   "source": [
    "7)wap ask the user enter the distance\n",
    "if distance greater than 25km\n",
    "then enter the charge\n",
    "print the total cost\n",
    "otherwise\n",
    "print free ride"
   ]
  },
  {
   "cell_type": "code",
   "execution_count": 4,
   "id": "8b16f6bb",
   "metadata": {},
   "outputs": [
    {
     "name": "stdout",
     "output_type": "stream",
     "text": [
      "enter the value: 100\n",
      "enter the value:5\n",
      "totalcost 500\n"
     ]
    }
   ],
   "source": [
    "def distance():\n",
    "    dist=eval(input(\"enter the value: \"))\n",
    "    if dist>25:\n",
    "        charge=eval(input(\"enter the value:\"))\n",
    "        total_cost=charge*dist\n",
    "        print(\"totalcost\",total_cost)\n",
    "    else:\n",
    "        print(\"free ride\")\n",
    "distance()"
   ]
  },
  {
   "cell_type": "code",
   "execution_count": 6,
   "id": "f477799e",
   "metadata": {},
   "outputs": [
    {
     "name": "stdout",
     "output_type": "stream",
     "text": [
      "totalcost 500\n"
     ]
    }
   ],
   "source": [
    "def distance(dist,charge):\n",
    "    if dist>25:\n",
    "        total_cost=charge*dist\n",
    "        print(\"totalcost\",total_cost)\n",
    "    else:\n",
    "        print(\"free ride\")\n",
    "distance(100,5)"
   ]
  },
  {
   "cell_type": "markdown",
   "id": "e2a12314",
   "metadata": {},
   "source": [
    "8)Implement the above problem by taking a random input  between  to 100"
   ]
  },
  {
   "cell_type": "code",
   "execution_count": 13,
   "id": "35866d16",
   "metadata": {},
   "outputs": [
    {
     "name": "stdout",
     "output_type": "stream",
     "text": [
      "totalcost 3816\n"
     ]
    }
   ],
   "source": [
    "def distance():\n",
    "    dist=random.randint(1,100)\n",
    "    if dist>25:\n",
    "        charge=random.randint(1,100)\n",
    "        total_cost=charge*dist\n",
    "        print(\"totalcost\",total_cost)\n",
    "    else:\n",
    "        print(\"free ride\")\n",
    "distance()"
   ]
  },
  {
   "cell_type": "markdown",
   "id": "2201851f",
   "metadata": {},
   "source": [
    "9) wap ask the user enter the course ask the\n",
    "user enter the Institute if the course equal\n",
    "to data science and institute equal to\n",
    "naresh it then you are good otherwise you are bad"
   ]
  },
  {
   "cell_type": "code",
   "execution_count": 17,
   "id": "2c8e82b4",
   "metadata": {},
   "outputs": [
    {
     "name": "stdout",
     "output_type": "stream",
     "text": [
      "enter the course: data science\n",
      "enter the institute: naresh it\n",
      "you are good\n"
     ]
    }
   ],
   "source": [
    "def course_institute():\n",
    "    course=input( \"enter the course: \")\n",
    "    institute=input(\"enter the institute: \")\n",
    "    if course == 'data science' and institute == 'naresh it':\n",
    "        print(\"you are good\")\n",
    "    else:\n",
    "        print(\"you are bad\")\n",
    "course_institute()\n"
   ]
  },
  {
   "cell_type": "code",
   "execution_count": 27,
   "id": "5e9e6876",
   "metadata": {},
   "outputs": [
    {
     "name": "stdout",
     "output_type": "stream",
     "text": [
      "you are good\n"
     ]
    }
   ],
   "source": [
    "def course_institute(course,institute): \n",
    "    if course == 'data science' and institute == 'naresh it':\n",
    "        print(\"you are good\")\n",
    "    else:\n",
    "        print(\"you are bad\")\n",
    "course_institute(\"data science\",\"naresh it\")\n"
   ]
  },
  {
   "cell_type": "markdown",
   "id": "419378b0",
   "metadata": {},
   "source": [
    "10) wap ask the user enter a random number\n",
    "between 1 to 10, treat this as number1 ask\n",
    "the user enter another number from keyboard,\n",
    "treat this as number2 if number1 equal to \n",
    "number2 print you won otherwise print you lost"
   ]
  },
  {
   "cell_type": "code",
   "execution_count": 28,
   "id": "3aa40690",
   "metadata": {},
   "outputs": [
    {
     "name": "stdout",
     "output_type": "stream",
     "text": [
      "enter the value: 10\n",
      "lost\n"
     ]
    }
   ],
   "source": [
    "def equals():\n",
    "    n1=random.randint(1,10)\n",
    "    n2=eval(input(\"enter the value: \"))\n",
    "    if n1==n2:\n",
    "        print(\"won\")\n",
    "    else:\n",
    "        print(\"lost\")\n",
    "equals()\n",
    "\n"
   ]
  },
  {
   "cell_type": "code",
   "execution_count": 29,
   "id": "cc156664",
   "metadata": {},
   "outputs": [
    {
     "name": "stdout",
     "output_type": "stream",
     "text": [
      "lost\n"
     ]
    }
   ],
   "source": [
    "def equals(n2):\n",
    "    n1=random.randint(1,10)\n",
    "    if n1==n2:\n",
    "        print(\"won\")\n",
    "    else:\n",
    "        print(\"lost\")\n",
    "equals(10)\n"
   ]
  },
  {
   "cell_type": "markdown",
   "id": "659fa9f5",
   "metadata": {},
   "source": [
    "11) wap ask the user enter a number if that number greater than zero print postive if that number less than zero print negative otherwise print zero"
   ]
  },
  {
   "cell_type": "code",
   "execution_count": 31,
   "id": "42f5596b",
   "metadata": {},
   "outputs": [
    {
     "name": "stdout",
     "output_type": "stream",
     "text": [
      "enter the value: 10\n",
      "positive\n"
     ]
    }
   ],
   "source": [
    "def number():\n",
    "    n=eval(input(\"enter the value: \"))\n",
    "    if n>0:\n",
    "        print(\"positive\")\n",
    "    elif n<0:\n",
    "        print(\"negative\")\n",
    "    else:\n",
    "        print(\"zero\")\n",
    "number()"
   ]
  },
  {
   "cell_type": "code",
   "execution_count": 1,
   "id": "245cb979",
   "metadata": {},
   "outputs": [
    {
     "name": "stdout",
     "output_type": "stream",
     "text": [
      "positive\n"
     ]
    }
   ],
   "source": [
    "def number(n):\n",
    "    if n>0:\n",
    "        print(\"positive\")\n",
    "    elif n<0:\n",
    "        print(\"negative\")\n",
    "    else:\n",
    "        print(\"zero\")\n",
    "number(10)"
   ]
  },
  {
   "cell_type": "markdown",
   "id": "4abde56f",
   "metadata": {},
   "source": [
    "12) wap ask the user enter numberif number equal to 1 \n",
    "then print one if number equal to 2 then\n",
    "print two if number equal to 3 then\n",
    "print three otherwise print enter a valid number"
   ]
  },
  {
   "cell_type": "code",
   "execution_count": 2,
   "id": "2a2f0f14",
   "metadata": {},
   "outputs": [
    {
     "name": "stdout",
     "output_type": "stream",
     "text": [
      "enter the value: 4\n",
      "valid number\n"
     ]
    }
   ],
   "source": [
    "def numbers():\n",
    "    num=eval(input(\"enter the value: \"))\n",
    "    if num==1:\n",
    "        print(\"one\")\n",
    "    elif num==2:\n",
    "        print(\"two\")\n",
    "    elif num==3:\n",
    "        print(\"three\")\n",
    "    else:\n",
    "        print(\"valid number\")\n",
    "\n",
    "numbers()\n",
    "\n"
   ]
  },
  {
   "cell_type": "code",
   "execution_count": 5,
   "id": "807f2666",
   "metadata": {},
   "outputs": [
    {
     "name": "stdout",
     "output_type": "stream",
     "text": [
      "valid number\n"
     ]
    }
   ],
   "source": [
    "def numbers(num):\n",
    "    if num==1:\n",
    "        print(\"one\")\n",
    "    elif num==2:\n",
    "        print(\"two\")\n",
    "    elif num==3:\n",
    "        print(\"three\")\n",
    "    else:\n",
    "        print(\"valid number\")\n",
    "\n",
    "numbers(10)\n",
    "          "
   ]
  },
  {
   "cell_type": "markdown",
   "id": "8adf06d1",
   "metadata": {},
   "source": [
    "13) WAP ask the user enter the percentage of marks 0 to 100\n",
    " if percentagw gretaer than 90  print A garde\n",
    " if percentage between 75 to 90 print B garde\n",
    " if percentage between 50 to 75 print C grade\n",
    " if percentage between 35 to 50 print D grade\n",
    " if percentage less than 35 print Fail\n"
   ]
  },
  {
   "cell_type": "code",
   "execution_count": 7,
   "id": "7abda99a",
   "metadata": {},
   "outputs": [
    {
     "name": "stdout",
     "output_type": "stream",
     "text": [
      "enter the value: 26\n",
      "fail\n"
     ]
    }
   ],
   "source": [
    "def percentage():\n",
    "    p=eval(input(\"enter the value: \"))\n",
    "    if  p>90:\n",
    "        print(\"A grade\")\n",
    "    elif p>75:\n",
    "        print(\"b grade\")\n",
    "    elif p>50:\n",
    "        print(\"c grade\")\n",
    "    elif p>35:\n",
    "        print(\"D grade\")\n",
    "    else:\n",
    "        print(\"fail\")\n",
    "percentage()"
   ]
  },
  {
   "cell_type": "code",
   "execution_count": 9,
   "id": "a0325b78",
   "metadata": {},
   "outputs": [
    {
     "name": "stdout",
     "output_type": "stream",
     "text": [
      "c grade\n"
     ]
    }
   ],
   "source": [
    "def percentage(p):\n",
    "    if  p>90:\n",
    "        print(\"A grade\")\n",
    "    elif p>75:\n",
    "        print(\"b grade\")\n",
    "    elif p>50:\n",
    "        print(\"c grade\")\n",
    "    elif p>35:\n",
    "        print(\"D grade\")\n",
    "    else:\n",
    "        print(\"fail\")\n",
    "percentage(75)"
   ]
  },
  {
   "cell_type": "markdown",
   "id": "82e28bde",
   "metadata": {},
   "source": [
    "14)  WAP ask the user enter the age if \n",
    "the age greater tahn 100 print you are lucky\n",
    "if the age gretaer than 75 print old age if \n",
    "the age between 50 to 75 print ss if the age \n",
    "between 30 tp 50 print MA if the \n",
    "age between 15 to 30 print young age\n",
    "if the afe between less than 15 print kid"
   ]
  },
  {
   "cell_type": "code",
   "execution_count": 16,
   "id": "0c75a46e",
   "metadata": {},
   "outputs": [
    {
     "name": "stdout",
     "output_type": "stream",
     "text": [
      "enter the age: 56\n",
      "SS\n"
     ]
    }
   ],
   "source": [
    "def age1(age): \n",
    "    age=eval(input(\"enter the age: \")) \n",
    "    if age>100:\n",
    "        print(\"you are lucky\") \n",
    "    elif age>75:\n",
    "        print(\"old age\")\n",
    "    elif age>50:\n",
    "        print(\"SS\") \n",
    "    elif age>30:\n",
    "        print(\"MA\")\n",
    "    elif age>15: \n",
    "        print(\"young age\") \n",
    "    else:\n",
    "        print(\"kid\") \n",
    "age1(58)"
   ]
  },
  {
   "cell_type": "code",
   "execution_count": 15,
   "id": "42bdc890",
   "metadata": {},
   "outputs": [
    {
     "name": "stdout",
     "output_type": "stream",
     "text": [
      "SS\n"
     ]
    }
   ],
   "source": [
    "def age1(age):\n",
    "\n",
    "    if age>100:\n",
    "        print(\"you are lucky\")\n",
    "    elif age>75:\n",
    "        print(\"old age\")\n",
    "    elif age>50:\n",
    "        print(\"SS\")\n",
    "    elif age>30:\n",
    "        print(\"MA\")\n",
    "    elif age>15:\n",
    "        print(\"young age\")\n",
    "    else:\n",
    "        print(\"kid\")\n",
    "age1(58)"
   ]
  },
  {
   "cell_type": "code",
   "execution_count": null,
   "id": "6b39c456",
   "metadata": {},
   "outputs": [],
   "source": []
  }
 ],
 "metadata": {
  "kernelspec": {
   "display_name": "Python 3 (ipykernel)",
   "language": "python",
   "name": "python3"
  },
  "language_info": {
   "codemirror_mode": {
    "name": "ipython",
    "version": 3
   },
   "file_extension": ".py",
   "mimetype": "text/x-python",
   "name": "python",
   "nbconvert_exporter": "python",
   "pygments_lexer": "ipython3",
   "version": "3.10.9"
  }
 },
 "nbformat": 4,
 "nbformat_minor": 5
}
