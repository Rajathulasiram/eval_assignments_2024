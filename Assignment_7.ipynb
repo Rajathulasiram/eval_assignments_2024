{
 "cells": [
  {
   "cell_type": "code",
   "execution_count": 27,
   "id": "c42e1193",
   "metadata": {},
   "outputs": [
    {
     "name": "stdout",
     "output_type": "stream",
     "text": [
      "17\n",
      "odd\n",
      "20\n",
      "even\n",
      "55\n",
      "odd\n"
     ]
    }
   ],
   "source": [
    "#1Q) For example\n",
    "# take a random number between  1 to 100\n",
    "# print it is a even number and odd number\n",
    "# you need to generate 3 random number\n",
    "\n",
    "\n",
    "import random\n",
    "num=random.randint(1,100)\n",
    "for i in range(3):\n",
    "    num=random.randint(1,100)\n",
    "    print(num)\n",
    "    if num%2==0:\n",
    "        print(\"even\")\n",
    "    else:\n",
    "        print(\"odd\")"
   ]
  },
  {
   "cell_type": "code",
   "execution_count": 1,
   "id": "690f01e1",
   "metadata": {},
   "outputs": [
    {
     "name": "stdout",
     "output_type": "stream",
     "text": [
      "enter the value: 16\n",
      "even\n"
     ]
    }
   ],
   "source": [
    "#2Q) wap ask the user print the number is even or odd between 10 to 20\n",
    "\n",
    "for i in range(10,20):\n",
    "    n=eval(input('enter the value: '))   \n",
    "    if n%2==0:\n",
    "        print(\"even\")\n",
    "    else:\n",
    "        print(\"odd\")\n",
    "    break"
   ]
  },
  {
   "cell_type": "code",
   "execution_count": 19,
   "id": "d6ba744c",
   "metadata": {},
   "outputs": [
    {
     "name": "stdout",
     "output_type": "stream",
     "text": [
      "The square of 20 is: 400\n",
      "The square of 21 is: 441\n",
      "The square of 22 is: 484\n",
      "The square of 23 is: 529\n",
      "The square of 24 is: 576\n",
      "The square of 25 is: 625\n"
     ]
    }
   ],
   "source": [
    "#3Q) wap ask the user print the square of the number between\n",
    "# 20 to 25\n",
    "\n",
    "for num in range(20, 26):\n",
    "    square = num ** 2\n",
    "    print(f\"The square of {num} is: {square}\")\n"
   ]
  },
  {
   "cell_type": "code",
   "execution_count": 1,
   "id": "9429d365",
   "metadata": {},
   "outputs": [
    {
     "name": "stdout",
     "output_type": "stream",
     "text": [
      "enter the value: 5\n",
      "25\n",
      "enter the value: 6\n",
      "36\n",
      "enter the value: 7\n",
      "49\n"
     ]
    }
   ],
   "source": [
    "#4Q) WAP ask the user enter number three times find the square of the number\n",
    "# How many times loop should run\n",
    "\n",
    "for i in range(3):\n",
    "    num=eval(input(\"enter the value: \"))\n",
    "    square=num*num\n",
    "    print(square)"
   ]
  },
  {
   "cell_type": "code",
   "execution_count": 6,
   "id": "c241c240",
   "metadata": {},
   "outputs": [
    {
     "name": "stdout",
     "output_type": "stream",
     "text": [
      "enter the value: 14\n",
      "the table is 14x1=14\n",
      "the table is 14x2=28\n",
      "the table is 14x3=42\n",
      "the table is 14x4=56\n",
      "the table is 14x5=70\n",
      "the table is 14x6=84\n",
      "the table is 14x7=98\n",
      "the table is 14x8=112\n",
      "the table is 14x9=126\n"
     ]
    }
   ],
   "source": [
    "# 5Q) Print the 14th table\n",
    "# ans:   14 x 1 = 14\n",
    "#        14 x 2 = 28\n",
    "#        14 x 3 = 42\n",
    "#\n",
    "#\n",
    "#        14 x10 = 140\n",
    "# How many times 10\n",
    "\n",
    "n=eval(input(\"enter the value: \"))\n",
    "for s in range(1,10):\n",
    "    a=s*n\n",
    "    print(f\"the table is {n}x{s}={a}\")"
   ]
  },
  {
   "cell_type": "code",
   "execution_count": 10,
   "id": "9c096083",
   "metadata": {},
   "outputs": [
    {
     "name": "stdout",
     "output_type": "stream",
     "text": [
      "enter the value: 75\n",
      "1\n",
      "3\n",
      "5\n",
      "15\n",
      "25\n",
      "75\n"
     ]
    }
   ],
   "source": [
    "#6 Q) Find the factors of 75\n",
    "# step-1: Iterate the loop = which numbers factor you want\n",
    "# step-2: Apply the if condition\n",
    "#         cond= divide the number with each i\n",
    "\n",
    "n=eval(input(\"enter the value: \"))\n",
    "for i in range(1,n+1):\n",
    "    if n%i==0:\n",
    "        print(i)\n",
    "\n"
   ]
  },
  {
   "cell_type": "code",
   "execution_count": 20,
   "id": "151d2390",
   "metadata": {},
   "outputs": [
    {
     "name": "stdout",
     "output_type": "stream",
     "text": [
      "enter the value:10\n",
      "1 3 6 10 15 21 28 36 45 55 "
     ]
    }
   ],
   "source": [
    "#7Q) Write the sum of first 10 Natural numbers\n",
    "# 1 to 10\n",
    "# 1+2+3+4+5+6+7+8+9+10=55\n",
    "sum=0\n",
    "n=eval(input(\"enter the value:\"))\n",
    "for i in range(1,n+1):\n",
    "    sum=sum+i\n",
    "    print(sum,end=\" \")"
   ]
  },
  {
   "cell_type": "code",
   "execution_count": 26,
   "id": "adc8493d",
   "metadata": {},
   "outputs": [
    {
     "name": "stdout",
     "output_type": "stream",
     "text": [
      "enter a number: 10\n",
      "5.5\n"
     ]
    }
   ],
   "source": [
    "#  8Q) Average first 1 to 10 numbers\n",
    "# avg= summation of all the numbers/total number\n",
    "#Wap to find the average of ' N ' numbers in Python.\n",
    "sum=0\n",
    "avg=0\n",
    "n=eval(input(\"enter a number: \"))\n",
    "for i in range(1,n+1):\n",
    "    sum=sum+i\n",
    "    avg=sum/n\n",
    "print(avg)"
   ]
  },
  {
   "cell_type": "code",
   "execution_count": 31,
   "id": "6b97cadf",
   "metadata": {},
   "outputs": [
    {
     "name": "stdout",
     "output_type": "stream",
     "text": [
      "enter the value: 75\n",
      "6\n"
     ]
    }
   ],
   "source": [
    "#9Q) Find the number of divisors of 75\n",
    "# ans: 1,3,5,15,25,75\n",
    "# Number =6\n",
    "\n",
    "\n",
    "n=eval(input(\"enter the value: \"))\n",
    "c=0\n",
    "for i in range(1,n+1):\n",
    "    if n%i==0:\n",
    "        c=c+1\n",
    "print(c)\n",
    "    "
   ]
  },
  {
   "cell_type": "code",
   "execution_count": 53,
   "id": "fb008dfb",
   "metadata": {},
   "outputs": [
    {
     "name": "stdout",
     "output_type": "stream",
     "text": [
      "enter the value: 10\n",
      "fails\n",
      "fails\n",
      "fails\n",
      "fails\n",
      "Try again after 24 hours\n"
     ]
    }
   ],
   "source": [
    "# 10Q)\n",
    "# Get a random number between  1 to 10 :  num1\n",
    "# Ask the user enter a number : num2\n",
    "# if num1 == num2  then print won\n",
    "# else print fail\n",
    "# Give 3 chances\n",
    "\n",
    "# Case-2: whenever you won the code should stop\n",
    "\n",
    "# Case-3:\n",
    "# Suppose i want to give 4 chances\n",
    "# Every time you fail I want to display\n",
    "#      Number of chances left\n",
    "\n",
    "# If all the chances you are used\n",
    "#    Try again after 24 hours\n",
    "\n",
    "# If you are win\n",
    "\n",
    "import random\n",
    "n1=random.randint(1,10)\n",
    "n2=eval(input(\"enter the value: \"))\n",
    "chances=4\n",
    "i=1\n",
    "for i in range(1,chances+1):\n",
    "    if n1==n2:\n",
    "        print(\"won\")\n",
    "        break\n",
    "    else:\n",
    "        chances_left=chances-i\n",
    "        print(\"fails\")\n",
    "        if chances_left==0:\n",
    "            print(\"Try again after 24 hours\")\n",
    "            break\n",
    "\n",
    "\n"
   ]
  },
  {
   "cell_type": "code",
   "execution_count": 69,
   "id": "f5f387cf",
   "metadata": {},
   "outputs": [
    {
     "name": "stdout",
     "output_type": "stream",
     "text": [
      "The total number of even numbers are: 4\n",
      "The total number of odd numbers are: 1\n",
      "The summation of all even numbers are: 248\n",
      "The summation number all odd numbers are: 35\n"
     ]
    }
   ],
   "source": [
    "#12Q) # wap ask the user get 5 random numbers\n",
    "# Get it is an even number or odd number\n",
    "# also count how many even numbers are there\n",
    "# and  count how many odd numbers are there\n",
    "# I want summ even numbers\n",
    "# I want summ odd numbers\n",
    "import random\n",
    "even_count=0\n",
    "odd_count=0\n",
    "even_sum=0\n",
    "odd_sum=0\n",
    "for i in range(5):\n",
    "    num=random.randint(1,100)\n",
    "    if num%2==0:\n",
    "        even_count=even_count+1\n",
    "        even_sum=even_sum+num\n",
    "    else:\n",
    "        odd_count=odd_count+1\n",
    "        odd_sum=odd_sum+num\n",
    "print(f\"The total number of even numbers are: {even_count}\")\n",
    "print(f\"The total number of odd numbers are: {odd_count}\")\n",
    "print(f\"The summation of all even numbers are: {even_sum}\")\n",
    "print(f\"The summation number all odd numbers are: {odd_sum}\")"
   ]
  },
  {
   "cell_type": "code",
   "execution_count": 77,
   "id": "017d8f6d",
   "metadata": {},
   "outputs": [
    {
     "name": "stdout",
     "output_type": "stream",
     "text": [
      "odd number is  5\n",
      "even number is 4\n",
      "odd number is  3\n",
      "even number is 0\n",
      "odd number is  5\n",
      "the even number count is 2\n",
      "the odd number count is 3\n"
     ]
    }
   ],
   "source": [
    "# 11-Q)# wap ask the user get 5 random numbers\n",
    "# Get it is an even number or odd number\n",
    "# also count how many even numbers are there\n",
    "# and  count how many odd numbers are there\n",
    "\n",
    "# Idea\n",
    "# take two counters one even and odd count\n",
    "# For loop 5 times\n",
    "# each time take the random number\n",
    "# If condition\n",
    "#    True counter update\n",
    "# else\n",
    "#   Update the counter\n",
    "\n",
    "import random\n",
    "n=random.randint(0,5)\n",
    "even_c=0\n",
    "odd_c=0\n",
    "for i in range(5):\n",
    "    n=random.randint(0,5)\n",
    "    if n%2==0:\n",
    "        print(\"even number is\",n)\n",
    "        even_c=even_c+1\n",
    "    else:\n",
    "        print(\"odd number is \",n)\n",
    "        odd_c=odd_c+1\n",
    "print(\"the even number count is\",even_c)\n",
    "print(\"the odd number count is\",odd_c)\n"
   ]
  }
 ],
 "metadata": {
  "kernelspec": {
   "display_name": "Python 3 (ipykernel)",
   "language": "python",
   "name": "python3"
  },
  "language_info": {
   "codemirror_mode": {
    "name": "ipython",
    "version": 3
   },
   "file_extension": ".py",
   "mimetype": "text/x-python",
   "name": "python",
   "nbconvert_exporter": "python",
   "pygments_lexer": "ipython3",
   "version": "3.10.9"
  }
 },
 "nbformat": 4,
 "nbformat_minor": 5
}
