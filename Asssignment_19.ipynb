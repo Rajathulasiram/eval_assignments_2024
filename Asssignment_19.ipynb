{
 "cells": [
  {
   "cell_type": "code",
   "execution_count": 1,
   "id": "a8a84c60",
   "metadata": {},
   "outputs": [
    {
     "name": "stdout",
     "output_type": "stream",
     "text": [
      "folder\\subfolder\\file.txt\n"
     ]
    }
   ],
   "source": [
    "# 1) How to join paths\n",
    "import os\n",
    "\n",
    "path1 = 'folder'\n",
    "path2 = 'subfolder'\n",
    "path3 = 'file.txt'\n",
    "\n",
    "full_path = os.path.join(path1, path2, path3)\n",
    "print(full_path)  # Outputs: folder/subfolder/file.txt (or folder\\subfolder\\file.txt on Windows)\n"
   ]
  },
  {
   "cell_type": "code",
   "execution_count": 4,
   "id": "1b7e3d3e",
   "metadata": {},
   "outputs": [
    {
     "name": "stdout",
     "output_type": "stream",
     "text": [
      "folder\\subfolder\\file.txt\n"
     ]
    }
   ],
   "source": [
    "\n",
    "from pathlib import Path\n",
    "\n",
    "path1 = Path('folder')\n",
    "path2 = 'subfolder'\n",
    "path3 = 'file.txt'\n",
    "\n",
    "full_path = path1 / path2 / path3\n",
    "print(full_path) "
   ]
  },
  {
   "cell_type": "code",
   "execution_count": 6,
   "id": "8f805170",
   "metadata": {},
   "outputs": [],
   "source": [
    "# 2) How to make directory\n",
    "import os\n",
    "\n",
    "directory = 'new_folder/subfolder'\n",
    "os.makedirs(directory, exist_ok=True)  \n"
   ]
  },
  {
   "cell_type": "code",
   "execution_count": 8,
   "id": "e42b6e53",
   "metadata": {},
   "outputs": [],
   "source": [
    "#3) Write the file\n",
    " #    check the mode ='a'  \n",
    "    \n",
    "from pathlib import Path\n",
    "\n",
    "directory = Path('new_folder/subfolder')\n",
    "directory.mkdir(parents=True, exist_ok=True)  \n"
   ]
  },
  {
   "cell_type": "code",
   "execution_count": 10,
   "id": "0fa09d0a",
   "metadata": {},
   "outputs": [],
   "source": [
    "#check the mode='w'\n",
    "with open('example.txt', mode='a') as file:\n",
    "    file.write('Appending this line.\\n')\n"
   ]
  },
  {
   "cell_type": "code",
   "execution_count": 11,
   "id": "75b76b0f",
   "metadata": {},
   "outputs": [],
   "source": [
    "#check the mode='x'\n",
    "with open('example.txt', mode='w') as file:\n",
    "    file.write('Writing this line, replacing any existing content.\\n')\n"
   ]
  },
  {
   "cell_type": "code",
   "execution_count": null,
   "id": "cf0375ee",
   "metadata": {},
   "outputs": [],
   "source": []
  }
 ],
 "metadata": {
  "kernelspec": {
   "display_name": "Python 3 (ipykernel)",
   "language": "python",
   "name": "python3"
  },
  "language_info": {
   "codemirror_mode": {
    "name": "ipython",
    "version": 3
   },
   "file_extension": ".py",
   "mimetype": "text/x-python",
   "name": "python",
   "nbconvert_exporter": "python",
   "pygments_lexer": "ipython3",
   "version": "3.10.9"
  }
 },
 "nbformat": 4,
 "nbformat_minor": 5
}
