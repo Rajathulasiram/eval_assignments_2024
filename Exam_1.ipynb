{
 "cells": [
  {
   "cell_type": "code",
   "execution_count": 7,
   "id": "a784d0e9",
   "metadata": {},
   "outputs": [
    {
     "name": "stdout",
     "output_type": "stream",
     "text": [
      "Enter the value: 2\n",
      "enter the value: 2\n",
      "the addition of two numbers is:4\n",
      "the subtraction of two numbers is:0\n",
      "the multiplication of two numbers is:4\n",
      "the division of two numbers is:1.0\n",
      "the molus of two numbers is:0\n",
      "the floor division of two numbers is:1\n"
     ]
    }
   ],
   "source": [
    "'''Write a program for all arithmetic operations using eval function.'''\n",
    "n1=eval(input(\"Enter the value: \"))\n",
    "n2=eval(input(\"enter the value: \"))\n",
    "addition = n1 + n2\n",
    "subtraction = n1 - n2\n",
    "multiplication = n1 * n2\n",
    "division = n1 / n2\n",
    "modulus = n1 % n2\n",
    "floor_division=n1 // n2\n",
    "print(f\"the addition of two numbers is:{addition}\")\n",
    "print(f\"the subtraction of two numbers is:{subtraction}\")\n",
    "print(f\"the multiplication of two numbers is:{multiplication}\")\n",
    "print(f\"the division of two numbers is:{division}\")\n",
    "print(f\"the molus of two numbers is:{modulus}\")\n",
    "print(f\"the floor division of two numbers is:{floor_division}\")"
   ]
  },
  {
   "cell_type": "code",
   "execution_count": 22,
   "id": "19dbc5ea",
   "metadata": {},
   "outputs": [
    {
     "name": "stdout",
     "output_type": "stream",
     "text": [
      "900\n"
     ]
    }
   ],
   "source": [
    "'''Generate random numbers from 1 to 100 with a step of 10'''\n",
    "import random\n",
    "num = random.randint(0, 100)\n",
    "random_number = num* 10\n",
    "print(random_number)\n"
   ]
  },
  {
   "cell_type": "code",
   "execution_count": 141,
   "id": "2a9d1ace",
   "metadata": {},
   "outputs": [
    {
     "name": "stdout",
     "output_type": "stream",
     "text": [
      "[10, 20]\n"
     ]
    }
   ],
   "source": [
    "'''Explain slicing and indexing with examples.'''\n",
    "#slicing\n",
    "list=[10,20,30,40]\n",
    "print(list[0:2])"
   ]
  },
  {
   "cell_type": "code",
   "execution_count": 142,
   "id": "93876004",
   "metadata": {},
   "outputs": [
    {
     "name": "stdout",
     "output_type": "stream",
     "text": [
      "20\n"
     ]
    }
   ],
   "source": [
    "# indexing\n",
    "list=[10,20,30,40]\n",
    "print(list[1])"
   ]
  },
  {
   "cell_type": "code",
   "execution_count": 144,
   "id": "1f5d9238",
   "metadata": {},
   "outputs": [
    {
     "name": "stdout",
     "output_type": "stream",
     "text": [
      "6.92\n"
     ]
    }
   ],
   "source": [
    "'''How to round to two decimal places for a floating value'''\n",
    "num = 6.9153834\n",
    "two_decimal_places = round(num, 2)\n",
    "print(two_decimal_places) \n"
   ]
  },
  {
   "cell_type": "code",
   "execution_count": 149,
   "id": "902931ce",
   "metadata": {},
   "outputs": [
    {
     "name": "stdout",
     "output_type": "stream",
     "text": [
      "395\n",
      "123\n"
     ]
    }
   ],
   "source": [
    "'''Explain type casting with fundamental datatypes with example.'''\n",
    "#float- integer\n",
    "n=395.448456\n",
    "int_float=int(n)\n",
    "print(int_float)\n",
    "\n",
    "#str - integer\n",
    "n=\"123\"\n",
    "int_to_str=int(n)\n",
    "print(int_to_str)"
   ]
  },
  {
   "cell_type": "code",
   "execution_count": 154,
   "id": "aa472c16",
   "metadata": {},
   "outputs": [
    {
     "name": "stdout",
     "output_type": "stream",
     "text": [
      "58465.0\n",
      "456311.0\n"
     ]
    }
   ],
   "source": [
    "#integer-float\n",
    "n=58465\n",
    "float_from_int=float(n)\n",
    "print(float_from_int)\n",
    "\n",
    "#str - float\n",
    "n=\"456311\"\n",
    "float_from_str=float(n)\n",
    "print(float_from_str)"
   ]
  },
  {
   "cell_type": "code",
   "execution_count": 160,
   "id": "54904dec",
   "metadata": {},
   "outputs": [
    {
     "name": "stdout",
     "output_type": "stream",
     "text": [
      "456\n",
      "123\n",
      "12.3656\n"
     ]
    }
   ],
   "source": [
    "#integer- str\n",
    "num_int = 456\n",
    "num_str = str(num_int)\n",
    "print(num_str)  \n",
    "\n",
    "#float-str\n",
    "n=12.3656\n",
    "str_from_float=str(n)\n",
    "print(str_from_float)"
   ]
  },
  {
   "cell_type": "code",
   "execution_count": null,
   "id": "98e8baea",
   "metadata": {},
   "outputs": [],
   "source": []
  },
  {
   "cell_type": "code",
   "execution_count": null,
   "id": "f8bec8f4",
   "metadata": {},
   "outputs": [],
   "source": []
  },
  {
   "cell_type": "code",
   "execution_count": null,
   "id": "c9574be9",
   "metadata": {},
   "outputs": [],
   "source": []
  }
 ],
 "metadata": {
  "kernelspec": {
   "display_name": "Python 3 (ipykernel)",
   "language": "python",
   "name": "python3"
  },
  "language_info": {
   "codemirror_mode": {
    "name": "ipython",
    "version": 3
   },
   "file_extension": ".py",
   "mimetype": "text/x-python",
   "name": "python",
   "nbconvert_exporter": "python",
   "pygments_lexer": "ipython3",
   "version": "3.10.9"
  }
 },
 "nbformat": 4,
 "nbformat_minor": 5
}
