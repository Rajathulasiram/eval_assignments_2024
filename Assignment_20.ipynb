{
 "cells": [
  {
   "cell_type": "code",
   "execution_count": 7,
   "id": "24776f1e",
   "metadata": {},
   "outputs": [
    {
     "name": "stdout",
     "output_type": "stream",
     "text": [
      "0: jayendhran.ms@accenture.com\n",
      "1: s.t.bhattacharjee@accenture.com\n",
      "2: vaishnavi.a.bansal@accenture.com\n",
      "3: p.a.chandra.shekhar@accenture.com\n",
      "4: hiren.j.doshi@accenture.com\n",
      "5: j.shimoga.prakash@accenture.com\n",
      "6: shreyash.akhouri@accenture.com\n",
      "7: nupanga.nath@accenture.com\n",
      "8: r.ponna@accenture.com\n",
      "9: aditya.d.singhal@accenture.com\n",
      "10: sumit.gorai@accenture.com\n",
      "11: mariele.dyan.valdez@accenture.com\n",
      "12: abigail.kyle.cancel@accenture.com\n",
      "13: p.bondalakunta@accenture.com\n",
      "14: sai.priyanka.uppala@accenture.com\n",
      "15: nikhil.nitin.shinde@accenture.com\n",
      "16: swapna.chidre@accenture.com\n",
      "17: s.satyapragyan.sahu@accenture.com\n",
      "18: ankit.sikka@accenture.com\n",
      "19: sai.madhukar.dara@accenture.com\n",
      "20: s.pattanshetti@accenture.com\n",
      "21: ayush.ad.sharma@accenture.com\n",
      "22: zairous.jay.latorena@accenture.com\n",
      "23: r.abhimanyu.pradhan@accenture.com\n",
      "24: lehar.jaiswal@accenture.com\n",
      "25: retik.gupta@accenture.com\n",
      "26: phanindra.r.satti@accenture.com\n",
      "27: manish.dw.kumar@accenture.com\n",
      "28: devi.p.balakrishnan@accenture.com\n",
      "29: roshni.priya.m.s@accenture.com\n",
      "30: vanaja.cheerala@accenture.com\n",
      "31: chandrashekhar.g.d@accenture.com\n",
      "32: m.nikhil.reddy@accenture.com\n",
      "33: jeroshelle.v.santos@accenture.com\n",
      "34: gerald.john.milan@accenture.com\n",
      "35: vivek.u.gupta@accenture.com\n",
      "36: s.sunilkumar.mandal@accenture.com\n",
      "37: ashok.prakash.shukla@accenture.com\n",
      "38: sivakumar.naganathan@accenture.com\n",
      "39: nikhil.gahlot@accenture.com\n",
      "40: s.a.kanti.kanjilal@accenture.com\n",
      "41: omkar.nallagoni@accenture.com\n",
      "42: sandra.sahajan@accenture.com\n",
      "43: chaitanya.nelluri@accenture.com\n"
     ]
    }
   ],
   "source": [
    "# 1-# Q5 from above output\n",
    "# you need to extract all the emails\n",
    "\n",
    "input_text = \"\"\"\n",
    "Santhanam, Jayendhran <jayendhran.ms@accenture.com>; Bhattacharjee, Sankalan <s.t.bhattacharjee@accenture.com>; Bansal, Vaishnavi <vaishnavi.a.bansal@accenture.com>; Chandra Shekhar, Pavuluri <p.a.chandra.shekhar@accenture.com>; J Doshi, Hiren <hiren.j.doshi@accenture.com>; Shimoga Prakash, Jeevan <j.shimoga.prakash@accenture.com>; Akhouri, Shreyash <shreyash.akhouri@accenture.com>; Nath, Nupanga <nupanga.nath@accenture.com>; Ponna, Ramesh <r.ponna@accenture.com>; Singhal, Aditya <aditya.d.singhal@accenture.com>; Gorai, Sumit <sumit.gorai@accenture.com>; Valdez, Mariele Dyan Francely <mariele.dyan.valdez@accenture.com>; Cancel, Abigail Kyle <abigail.kyle.cancel@accenture.com>; BONDALAKUNTA, POOJITHA <p.bondalakunta@accenture.com>; priyanka uppala, sai <sai.priyanka.uppala@accenture.com>; Nitin SHINDE, NIKHIL <nikhil.nitin.shinde@accenture.com>; Chidre, Swapna <swapna.chidre@accenture.com>; Sahu, Swastik <s.satyapragyan.sahu@accenture.com>; Sikka, Ankit <ankit.sikka@accenture.com>; Dara, Sai Madhukar <sai.madhukar.dara@accenture.com>; Pattanshetti, Sampreet <s.pattanshetti@accenture.com>; Sharma, Ayush <ayush.ad.sharma@accenture.com>; Latorena, Zairous Jay <zairous.jay.latorena@accenture.com>; Abhimanyu Pradhan, Roshankumar <r.abhimanyu.pradhan@accenture.com>; Jaiswal, Lehar <lehar.jaiswal@accenture.com>; Gupta, Retik <retik.gupta@accenture.com>; Satti, Phanindra Reddy <phanindra.r.satti@accenture.com>; Kumar, Manish <manish.dw.kumar@accenture.com>; Balakrishnan, Devi Priya <devi.p.balakrishnan@accenture.com>; M S, Roshni Priya <roshni.priya.m.s@accenture.com>; Cheerala, Vanaja <vanaja.cheerala@accenture.com>; G D, Chandrashekhar <chandrashekhar.g.d@accenture.com>; Nikhil Reddy, Madithati <m.nikhil.reddy@accenture.com>; Santos, Jeroshelle V. <jeroshelle.v.santos@accenture.com>; Milan, Gerald John <gerald.john.milan@accenture.com>; Gupta, Vivek <vivek.u.gupta@accenture.com>; Mandal, Sumit <s.sunilkumar.mandal@accenture.com>; Prakash Shukla, Ashok <ashok.prakash.shukla@accenture.com>; Naganathan, Siva <sivakumar.naganathan@accenture.com>; GAHLOT, NIKHIL <nikhil.gahlot@accenture.com>; Kanjilal, Sourav <s.a.kanti.kanjilal@accenture.com>; Nallagoni, Omkar <omkar.nallagoni@accenture.com>; Sahajan, Sandra <sandra.sahajan@accenture.com>; Nelluri, Chaitanya <chaitanya.nelluri@accenture.com>\n",
    "\"\"\"\n",
    "emails = []\n",
    "parts = input_text.split('<')\n",
    "for part in parts[1:]:\n",
    "    email_part = part.split('>')[0].strip()\n",
    "    emails.append(email_part)\n",
    "for index, email in enumerate(emails):\n",
    "    print(f\"{index}: {email}\")\n"
   ]
  },
  {
   "cell_type": "code",
   "execution_count": 2,
   "id": "d0c07663",
   "metadata": {},
   "outputs": [
    {
     "name": "stdout",
     "output_type": "stream",
     "text": [
      "0: nikhil.nitin.shinde@accenture.com\n",
      "1: s.t.bhattacharjee@accenture.com\n",
      "2: jayendhran.ms@accenture.com\n",
      "3: r.abhimanyu.pradhan@accenture.com\n",
      "4: phanindra.r.satti@accenture.com\n",
      "5: aditya.d.singhal@accenture.com\n",
      "6: devi.p.balakrishnan@accenture.com\n",
      "7: p.a.chandra.shekhar@accenture.com\n",
      "8: chaitanya.nelluri@accenture.com\n",
      "9: abigail.kyle.cancel@accenture.com\n",
      "10: lehar.jaiswal@accenture.com\n",
      "11: vaishnavi.a.bansal@accenture.com\n",
      "12: vanaja.cheerala@accenture.com\n",
      "13: ayush.ad.sharma@accenture.com\n",
      "14: chandrashekhar.g.d@accenture.com\n",
      "15: shreyash.akhouri@accenture.com\n",
      "16: nupanga.nath@accenture.com\n",
      "17: s.sunilkumar.mandal@accenture.com\n",
      "18: vivek.u.gupta@accenture.com\n",
      "19: sumit.gorai@accenture.com\n",
      "20: sai.madhukar.dara@accenture.com\n",
      "21: sivakumar.naganathan@accenture.com\n",
      "22: j.shimoga.prakash@accenture.com\n",
      "23: hiren.j.doshi@accenture.com\n",
      "24: m.nikhil.reddy@accenture.com\n",
      "25: nikhil.gahlot@accenture.com\n",
      "26: mariele.dyan.valdez@accenture.com\n",
      "27: p.bondalakunta@accenture.com\n",
      "28: roshni.priya.m.s@accenture.com\n",
      "29: sai.priyanka.uppala@accenture.com\n",
      "30: retik.gupta@accenture.com\n",
      "31: s.satyapragyan.sahu@accenture.com\n",
      "32: manish.dw.kumar@accenture.com\n",
      "33: jeroshelle.v.santos@accenture.com\n",
      "34: s.a.kanti.kanjilal@accenture.com\n",
      "35: omkar.nallagoni@accenture.com\n",
      "36: s.pattanshetti@accenture.com\n",
      "37: gerald.john.milan@accenture.com\n",
      "38: ankit.sikka@accenture.com\n",
      "39: swapna.chidre@accenture.com\n",
      "40: zairous.jay.latorena@accenture.com\n",
      "41: sandra.sahajan@accenture.com\n",
      "42: ashok.prakash.shukla@accenture.com\n",
      "43: r.ponna@accenture.com\n"
     ]
    }
   ],
   "source": [
    " #6-Q) to print unque  emails\n",
    "input_text = \"\"\"\n",
    "Santhanam, Jayendhran <jayendhran.ms@accenture.com>; Bhattacharjee, Sankalan <s.t.bhattacharjee@accenture.com>; Bansal, Vaishnavi <vaishnavi.a.bansal@accenture.com>; Chandra Shekhar, Pavuluri <p.a.chandra.shekhar@accenture.com>; J Doshi, Hiren <hiren.j.doshi@accenture.com>; Shimoga Prakash, Jeevan <j.shimoga.prakash@accenture.com>; Akhouri, Shreyash <shreyash.akhouri@accenture.com>; Nath, Nupanga <nupanga.nath@accenture.com>; Ponna, Ramesh <r.ponna@accenture.com>; Singhal, Aditya <aditya.d.singhal@accenture.com>; Gorai, Sumit <sumit.gorai@accenture.com>; Valdez, Mariele Dyan Francely <mariele.dyan.valdez@accenture.com>; Cancel, Abigail Kyle <abigail.kyle.cancel@accenture.com>; BONDALAKUNTA, POOJITHA <p.bondalakunta@accenture.com>; priyanka uppala, sai <sai.priyanka.uppala@accenture.com>; Nitin SHINDE, NIKHIL <nikhil.nitin.shinde@accenture.com>; Chidre, Swapna <swapna.chidre@accenture.com>; Sahu, Swastik <s.satyapragyan.sahu@accenture.com>; Sikka, Ankit <ankit.sikka@accenture.com>; Dara, Sai Madhukar <sai.madhukar.dara@accenture.com>; Pattanshetti, Sampreet <s.pattanshetti@accenture.com>; Sharma, Ayush <ayush.ad.sharma@accenture.com>; Latorena, Zairous Jay <zairous.jay.latorena@accenture.com>; Abhimanyu Pradhan, Roshankumar <r.abhimanyu.pradhan@accenture.com>; Jaiswal, Lehar <lehar.jaiswal@accenture.com>; Gupta, Retik <retik.gupta@accenture.com>; Satti, Phanindra Reddy <phanindra.r.satti@accenture.com>; Kumar, Manish <manish.dw.kumar@accenture.com>; Balakrishnan, Devi Priya <devi.p.balakrishnan@accenture.com>; M S, Roshni Priya <roshni.priya.m.s@accenture.com>; Cheerala, Vanaja <vanaja.cheerala@accenture.com>; G D, Chandrashekhar <chandrashekhar.g.d@accenture.com>; Nikhil Reddy, Madithati <m.nikhil.reddy@accenture.com>; Santos, Jeroshelle V. <jeroshelle.v.santos@accenture.com>; Milan, Gerald John <gerald.john.milan@accenture.com>; Gupta, Vivek <vivek.u.gupta@accenture.com>; Mandal, Sumit <s.sunilkumar.mandal@accenture.com>; Prakash Shukla, Ashok <ashok.prakash.shukla@accenture.com>; Naganathan, Siva <sivakumar.naganathan@accenture.com>; GAHLOT, NIKHIL <nikhil.gahlot@accenture.com>; Kanjilal, Sourav <s.a.kanti.kanjilal@accenture.com>; Nallagoni, Omkar <omkar.nallagoni@accenture.com>; Sahajan, Sandra <sandra.sahajan@accenture.com>; Nelluri, Chaitanya <chaitanya.nelluri@accenture.com>\n",
    "\"\"\"\n",
    "emails = set(part.split('>')[0].strip() for part in input_text.split('<')[1:])\n",
    "for index, email in enumerate(emails):\n",
    "    print(f\"{index}: {email}\")\n"
   ]
  },
  {
   "cell_type": "code",
   "execution_count": null,
   "id": "49ca5c84",
   "metadata": {},
   "outputs": [],
   "source": [
    "def print_unique_emails(file_path):\n",
    "    with open(file_path, 'r') as file:\n",
    "        input_text = file.read()\n",
    "        emails = set(part.split('>')[0].strip() for part in input_text.split('<')[1:])\n",
    "    for index, email in enumerate(emails):\n",
    "        print(f\"{index}: {email}\")\n",
    "\n",
    "# Replace 'yourfile.txt' with the path to your text file\n",
    "print_unique_emails('yourfile.txt')\n"
   ]
  }
 ],
 "metadata": {
  "kernelspec": {
   "display_name": "Python 3 (ipykernel)",
   "language": "python",
   "name": "python3"
  },
  "language_info": {
   "codemirror_mode": {
    "name": "ipython",
    "version": 3
   },
   "file_extension": ".py",
   "mimetype": "text/x-python",
   "name": "python",
   "nbconvert_exporter": "python",
   "pygments_lexer": "ipython3",
   "version": "3.10.9"
  }
 },
 "nbformat": 4,
 "nbformat_minor": 5
}
