{
 "cells": [
  {
   "cell_type": "code",
   "execution_count": 5,
   "id": "8d1ffe8f",
   "metadata": {},
   "outputs": [
    {
     "name": "stdout",
     "output_type": "stream",
     "text": [
      "apple\n",
      "angle\n",
      "akhil\n",
      "1\n",
      "2\n",
      "3\n"
     ]
    }
   ],
   "source": [
    "# in operator\n",
    "s1=['apple','angle','akhil',1,2,3]\n",
    "for i in s1:\n",
    "    print(i)"
   ]
  },
  {
   "cell_type": "code",
   "execution_count": 8,
   "id": "f8170cd0",
   "metadata": {},
   "outputs": [
    {
     "name": "stdout",
     "output_type": "stream",
     "text": [
      "0 apple\n",
      "1 angle\n",
      "2 akhil\n",
      "3 1\n",
      "4 2\n",
      "5 3\n"
     ]
    }
   ],
   "source": [
    "# index\n",
    "s1=['apple','angle','akhil',1,2,3]\n",
    "for i in range(len(s1)):\n",
    "    print(i,s1[i])"
   ]
  },
  {
   "cell_type": "code",
   "execution_count": 11,
   "id": "bc60af68",
   "metadata": {},
   "outputs": [
    {
     "data": {
      "text/plain": [
       "[1, 2, 3, 4, 5, 6]"
      ]
     },
     "execution_count": 11,
     "metadata": {},
     "output_type": "execute_result"
    }
   ],
   "source": [
    "# mutability\n",
    "s2=[1,2,3,4,5,5]\n",
    "s2[5]=6\n",
    "s2"
   ]
  },
  {
   "cell_type": "code",
   "execution_count": 14,
   "id": "109c8946",
   "metadata": {},
   "outputs": [
    {
     "data": {
      "text/plain": [
       "[2, 3, 4]"
      ]
     },
     "execution_count": 14,
     "metadata": {},
     "output_type": "execute_result"
    }
   ],
   "source": [
    "#slicing\n",
    "s1=[1,2,3,4,5,6]\n",
    "new=s1[1:4]\n",
    "new"
   ]
  },
  {
   "cell_type": "code",
   "execution_count": 15,
   "id": "03fbe66d",
   "metadata": {},
   "outputs": [
    {
     "data": {
      "text/plain": [
       "[1, 2, 3, 4, 5, 5, 1, 2, 3, 4, 5, 6]"
      ]
     },
     "execution_count": 15,
     "metadata": {},
     "output_type": "execute_result"
    }
   ],
   "source": [
    "#concatenation\n",
    "s1=[1,2,3,4,5,5]\n",
    "s2=[1,2,3,4,5,6]\n",
    "con=s1+s2\n",
    "con"
   ]
  },
  {
   "cell_type": "code",
   "execution_count": 20,
   "id": "867eed03",
   "metadata": {},
   "outputs": [
    {
     "name": "stdout",
     "output_type": "stream",
     "text": [
      "the positive index is:1 is0\n",
      "the positive index is:2 is1\n",
      "the positive index is:3 is2\n",
      "the positive index is:4 is3\n",
      "the positive index is:5 is4\n",
      "the positive index is:teja is5\n"
     ]
    }
   ],
   "source": [
    "# positive index\n",
    "s1=[1,2,3,4,5,'teja']\n",
    "for i in range(len(s1)):\n",
    "    print(f\"the positive index is:{s1[i]} is {i}\")"
   ]
  },
  {
   "cell_type": "code",
   "execution_count": 29,
   "id": "39b5eb2f",
   "metadata": {},
   "outputs": [
    {
     "name": "stdout",
     "output_type": "stream",
     "text": [
      "the negative index is 1 is -7\n",
      "the negative index is 2 is -6\n",
      "the negative index is 3 is -5\n",
      "the negative index is 4 is -4\n",
      "the negative index is 5 is -3\n",
      "the negative index is 6 is -2\n",
      "the negative index is sanjay is -1\n"
     ]
    }
   ],
   "source": [
    "# negative index\n",
    "s1=[1,2,3,4,5,6,'sanjay']\n",
    "for i in range(len(s1)):\n",
    "    print(f\"the negative index is {s1[i]} is {i-len(s1)}\")\n"
   ]
  },
  {
   "cell_type": "code",
   "execution_count": 30,
   "id": "f9a55ec2",
   "metadata": {},
   "outputs": [
    {
     "name": "stdout",
     "output_type": "stream",
     "text": [
      "both positive index :1 is 0 and negative index : 1 is -7\n",
      "both positive index :2 is 1 and negative index : 2 is -6\n",
      "both positive index :3 is 2 and negative index : 3 is -5\n",
      "both positive index :4 is 3 and negative index : 4 is -4\n",
      "both positive index :5 is 4 and negative index : 5 is -3\n",
      "both positive index :6 is 5 and negative index : 6 is -2\n",
      "both positive index :sanjay is 6 and negative index : sanjay is -1\n"
     ]
    }
   ],
   "source": [
    "# both positive index and negative index\n",
    "s1=[1,2,3,4,5,6,'sanjay']\n",
    "for i in range(len(s1)):\n",
    "    print(f\"both positive index :{s1[i]} is {i} and negative index : {s1[i]} is {i-len(s1)}\")\n",
    "    "
   ]
  }
 ],
 "metadata": {
  "kernelspec": {
   "display_name": "Python 3 (ipykernel)",
   "language": "python",
   "name": "python3"
  },
  "language_info": {
   "codemirror_mode": {
    "name": "ipython",
    "version": 3
   },
   "file_extension": ".py",
   "mimetype": "text/x-python",
   "name": "python",
   "nbconvert_exporter": "python",
   "pygments_lexer": "ipython3",
   "version": "3.10.9"
  }
 },
 "nbformat": 4,
 "nbformat_minor": 5
}
