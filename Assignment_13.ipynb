{
 "cells": [
  {
   "cell_type": "code",
   "execution_count": 3,
   "id": "52921d49",
   "metadata": {},
   "outputs": [
    {
     "data": {
      "text/plain": [
       "['hello']"
      ]
     },
     "execution_count": 3,
     "metadata": {},
     "output_type": "execute_result"
    }
   ],
   "source": [
    "str1='hello'\n",
    "i1=str1.split()\n",
    "i1"
   ]
  },
  {
   "cell_type": "code",
   "execution_count": 12,
   "id": "5825ea0c",
   "metadata": {},
   "outputs": [
    {
     "data": {
      "text/plain": [
       "'Hello, world'"
      ]
     },
     "execution_count": 12,
     "metadata": {},
     "output_type": "execute_result"
    }
   ],
   "source": [
    "str1=\"  Hello, world  \"\n",
    "i1=str1.strip()\n",
    "i1"
   ]
  },
  {
   "cell_type": "code",
   "execution_count": 17,
   "id": "f074f0ac",
   "metadata": {},
   "outputs": [
    {
     "data": {
      "text/plain": [
       "'i am ram***'"
      ]
     },
     "execution_count": 17,
     "metadata": {},
     "output_type": "execute_result"
    }
   ],
   "source": [
    "str1=\"***i am ram***\"\n",
    "i1=str1.lstrip('*')\n",
    "i1"
   ]
  },
  {
   "cell_type": "code",
   "execution_count": 18,
   "id": "0533caf7",
   "metadata": {},
   "outputs": [
    {
     "data": {
      "text/plain": [
       "'***i am ram'"
      ]
     },
     "execution_count": 18,
     "metadata": {},
     "output_type": "execute_result"
    }
   ],
   "source": [
    "str1=\"***i am ram***\"\n",
    "i1=str1.rstrip('*')\n",
    "i1"
   ]
  },
  {
   "cell_type": "code",
   "execution_count": 42,
   "id": "0c652219",
   "metadata": {},
   "outputs": [
    {
     "name": "stdout",
     "output_type": "stream",
     "text": [
      "starts with kalki\n"
     ]
    }
   ],
   "source": [
    "str1=\"i am kalki\"\n",
    "if str1.startswith('i'):\n",
    "    print(\"starts with kalki\")\n",
    "else:\n",
    "    print(\"starts with others\")"
   ]
  },
  {
   "cell_type": "code",
   "execution_count": 46,
   "id": "ec4d463a",
   "metadata": {},
   "outputs": [
    {
     "name": "stdout",
     "output_type": "stream",
     "text": [
      "ends with kalki\n"
     ]
    }
   ],
   "source": [
    "str1=\"i am kalki\"\n",
    "if str1.endswith('kalki'):\n",
    "    print(\"ends with kalki\")\n",
    "else:\n",
    "    print(\"ends with others\")\n"
   ]
  }
 ],
 "metadata": {
  "kernelspec": {
   "display_name": "Python 3 (ipykernel)",
   "language": "python",
   "name": "python3"
  },
  "language_info": {
   "codemirror_mode": {
    "name": "ipython",
    "version": 3
   },
   "file_extension": ".py",
   "mimetype": "text/x-python",
   "name": "python",
   "nbconvert_exporter": "python",
   "pygments_lexer": "ipython3",
   "version": "3.10.9"
  }
 },
 "nbformat": 4,
 "nbformat_minor": 5
}
