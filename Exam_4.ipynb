{
 "cells": [
  {
   "cell_type": "code",
   "execution_count": 4,
   "id": "127a0811",
   "metadata": {},
   "outputs": [
    {
     "name": "stdout",
     "output_type": "stream",
     "text": [
      "enter the valiue: 10\n",
      "55\n"
     ]
    }
   ],
   "source": [
    "#-1. Write a Python program to find the sum of the first N natural numbers using a for loop.\n",
    "n=eval(input(\"enter the valiue: \"))\n",
    "sum=0\n",
    "for i in range(1,n+1):\n",
    "    sum=sum+i\n",
    "print(sum)"
   ]
  },
  {
   "cell_type": "code",
   "execution_count": 16,
   "id": "43157db3",
   "metadata": {},
   "outputs": [
    {
     "name": "stdout",
     "output_type": "stream",
     "text": [
      "enter the value: 75\n",
      "1\n",
      "3\n",
      "5\n",
      "15\n",
      "25\n",
      "75\n"
     ]
    }
   ],
   "source": [
    "#-2. Write a Python program to calculate the factorial of a given number using a for loop.\n",
    "n=eval(input(\"enter the value: \"))\n",
    "for i in range(1,n+1):\n",
    "    if n%i==0:\n",
    "        print(i)"
   ]
  },
  {
   "cell_type": "code",
   "execution_count": 28,
   "id": "7c4472c0",
   "metadata": {},
   "outputs": [
    {
     "name": "stdout",
     "output_type": "stream",
     "text": [
      "enter the value: 14\n",
      "the multiplication table of given number  is: 14 X 1 = 14\n",
      "the multiplication table of given number  is: 14 X 2 = 28\n",
      "the multiplication table of given number  is: 14 X 3 = 42\n",
      "the multiplication table of given number  is: 14 X 4 = 56\n",
      "the multiplication table of given number  is: 14 X 5 = 70\n",
      "the multiplication table of given number  is: 14 X 6 = 84\n",
      "the multiplication table of given number  is: 14 X 7 = 98\n",
      "the multiplication table of given number  is: 14 X 8 = 112\n",
      "the multiplication table of given number  is: 14 X 9 = 126\n"
     ]
    }
   ],
   "source": [
    "#-3. Write a Python program to print the multiplication table of a given number up to 10 using a for loop.\n",
    "n=eval(input(\"enter the value: \"))\n",
    "for i in range(1,10):\n",
    "    table=n*i\n",
    "    print(f\"the multiplication table of given number  is: {n} X {i} = {table}\")\n",
    "    \n",
    "    \n",
    "    "
   ]
  },
  {
   "cell_type": "code",
   "execution_count": 2,
   "id": "56c1af3a",
   "metadata": {},
   "outputs": [
    {
     "name": "stdout",
     "output_type": "stream",
     "text": [
      "enter the value: 20\n",
      "19\n",
      "18\n",
      "17\n",
      "16\n",
      "15\n",
      "14\n",
      "13\n",
      "12\n",
      "11\n",
      "10\n",
      "9\n",
      "8\n",
      "7\n",
      "6\n",
      "5\n",
      "4\n",
      "3\n",
      "2\n",
      "1\n"
     ]
    }
   ],
   "source": [
    "#-4. Write a Python program to print numbers from N down to 1 using a for loop.\n",
    "n=eval(input(\"enter the value: \"))\n",
    "for i in range(1,n):\n",
    "    print(n-i)"
   ]
  },
  {
   "cell_type": "code",
   "execution_count": 26,
   "id": "d6b50e2e",
   "metadata": {},
   "outputs": [
    {
     "name": "stdout",
     "output_type": "stream",
     "text": [
      "Enter a number: 10\n",
      "The sum of all even numbers between 1 and 10 is: 30\n"
     ]
    }
   ],
   "source": [
    "#-5. Write a Python program to find the sum of all even numbers between 1 and N using a for loop.\n",
    "n = int(input(\"Enter a number: \"))\n",
    "sum_even = 0\n",
    "if n >= 2:\n",
    "    for i in range(2, n+1):\n",
    "        if i % 2 == 0: \n",
    "            sum_even =sum_even+i \n",
    "\n",
    "print(f\"The sum of all even numbers between 1 and {n} is: {sum_even}\")\n"
   ]
  }
 ],
 "metadata": {
  "kernelspec": {
   "display_name": "Python 3 (ipykernel)",
   "language": "python",
   "name": "python3"
  },
  "language_info": {
   "codemirror_mode": {
    "name": "ipython",
    "version": 3
   },
   "file_extension": ".py",
   "mimetype": "text/x-python",
   "name": "python",
   "nbconvert_exporter": "python",
   "pygments_lexer": "ipython3",
   "version": "3.10.9"
  }
 },
 "nbformat": 4,
 "nbformat_minor": 5
}
