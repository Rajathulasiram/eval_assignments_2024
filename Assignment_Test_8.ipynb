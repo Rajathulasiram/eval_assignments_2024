{
 "cells": [
  {
   "cell_type": "code",
   "execution_count": 28,
   "id": "2b919db2",
   "metadata": {},
   "outputs": [
    {
     "name": "stdout",
     "output_type": "stream",
     "text": [
      "98\n",
      "even number 98\n",
      "60\n",
      "even number 60\n",
      "88\n",
      "even number 88\n"
     ]
    }
   ],
   "source": [
    "#1Q) For example\n",
    "# take a random number between  1 to 100\n",
    "# print it is a even number and odd number\n",
    "# you need to generate 3 random number\n",
    "\n",
    "import random\n",
    "i=0\n",
    "while i<3:\n",
    "    i=i+1\n",
    "    n=random.randint(1,100)\n",
    "    print(n)\n",
    "    if n%2==0:\n",
    "        print(f\"even number {n}\")\n",
    "    else:\n",
    "        print(f\"odd number {n}\")\n",
    "        break"
   ]
  },
  {
   "cell_type": "code",
   "execution_count": 2,
   "id": "7f056711",
   "metadata": {},
   "outputs": [
    {
     "name": "stdout",
     "output_type": "stream",
     "text": [
      "enter the value: 19\n",
      "odd number 19\n"
     ]
    }
   ],
   "source": [
    "#2Q) wap ask the user print the number is even or odd between 10 to 20\n",
    "\n",
    "n=eval(input(\"enter the value: \"))\n",
    "while n>10 and n<20:\n",
    "    if n%2==0:\n",
    "        print(\"even number\",n)\n",
    "    else:\n",
    "        print(\"odd number\",n)\n",
    "        break\n",
    "        "
   ]
  },
  {
   "cell_type": "code",
   "execution_count": 3,
   "id": "56d73574",
   "metadata": {},
   "outputs": [
    {
     "name": "stdout",
     "output_type": "stream",
     "text": [
      "enter a value:23\n",
      "529\n"
     ]
    }
   ],
   "source": [
    "#3Q) wap ask the user print the square of the number between\n",
    "# 20 to 25\n",
    "\n",
    "n=eval(input(\"enter a value:\"))\n",
    "while n>20 and n<25:\n",
    "    s=n*n\n",
    "    print(s)\n",
    "    break"
   ]
  },
  {
   "cell_type": "code",
   "execution_count": 20,
   "id": "9b40008f",
   "metadata": {},
   "outputs": [
    {
     "name": "stdout",
     "output_type": "stream",
     "text": [
      "enter the value: 5\n",
      "25\n",
      "enter the value: 6\n",
      "36\n",
      "enter the value: 3\n",
      "9\n"
     ]
    }
   ],
   "source": [
    "#4Q) WAP ask the user enter number three times find the square of the number\n",
    "# How many times loop should run\n",
    "\n",
    "i=0\n",
    "while i<3:\n",
    "    i=i+1\n",
    "    n=eval(input(\"enter the value: \"))\n",
    "    s=n*n\n",
    "    print(s)\n",
    "\n",
    "    "
   ]
  },
  {
   "cell_type": "code",
   "execution_count": 1,
   "id": "e1ae8fa1",
   "metadata": {},
   "outputs": [
    {
     "name": "stdout",
     "output_type": "stream",
     "text": [
      "enter the value: 14\n",
      "28\n",
      "42\n",
      "56\n",
      "70\n",
      "84\n",
      "98\n",
      "112\n",
      "126\n",
      "140\n"
     ]
    }
   ],
   "source": [
    "#5Q) Print the 14th table\n",
    "# ans:   14 x 1 = 14\n",
    "#        14 x 2 = 28\n",
    "#        14 x 3 = 42\n",
    "#\n",
    "#\n",
    "#        14 x10 = 140\n",
    "# How many times 10\n",
    "\n",
    "n=eval(input(\"enter the value: \"))\n",
    "i=1\n",
    "while i<10:\n",
    "    i=i+1\n",
    "    s=n*i\n",
    "    print(s)\n"
   ]
  },
  {
   "cell_type": "code",
   "execution_count": 3,
   "id": "53a70e99",
   "metadata": {},
   "outputs": [
    {
     "name": "stdout",
     "output_type": "stream",
     "text": [
      "enter the value: 75\n",
      "1\n",
      "3\n",
      "5\n",
      "15\n",
      "25\n",
      "75\n"
     ]
    }
   ],
   "source": [
    "#6 Q) Find the factors of 75\n",
    "# step-1: Iterate the loop = which numbers factor you want\n",
    "# step-2: Apply the if condition\n",
    "#         cond= divide the number with each i\n",
    "\n",
    "n=eval(input(\"enter the value: \"))\n",
    "i=0\n",
    "while i<n:\n",
    "    i=i+1\n",
    "    if n%i==0:\n",
    "        print(i)\n"
   ]
  },
  {
   "cell_type": "code",
   "execution_count": 2,
   "id": "c6a25e31",
   "metadata": {},
   "outputs": [
    {
     "name": "stdout",
     "output_type": "stream",
     "text": [
      "55\n"
     ]
    }
   ],
   "source": [
    "#7Q) Write the sum of first 10 Natural numbers\n",
    "# 1 to 10\n",
    "# 1+2+3+4+5+6+7+8+9+10=55\n",
    "i=0\n",
    "sum=0\n",
    "while i<10:\n",
    "    i=i+1\n",
    "    sum=sum+i\n",
    "print(sum)\n"
   ]
  },
  {
   "cell_type": "code",
   "execution_count": 8,
   "id": "af6923e5",
   "metadata": {},
   "outputs": [
    {
     "name": "stdout",
     "output_type": "stream",
     "text": [
      "enter a value: 10\n",
      "5.5\n"
     ]
    }
   ],
   "source": [
    "# 8Q) Average first 1 to 10 numbers\n",
    "# avg= summation of all the numbers/total number\n",
    "#Wap to find the average of ' N ' numbers in Python.\n",
    "\n",
    "i=0\n",
    "sum=0\n",
    "n=eval(input(\"enter a value: \"))\n",
    "while i<n:\n",
    "    i=i+1\n",
    "    sum=sum+i\n",
    "    avg=sum/n\n",
    "print(avg)\n"
   ]
  },
  {
   "cell_type": "code",
   "execution_count": 28,
   "id": "793cf1de",
   "metadata": {},
   "outputs": [
    {
     "name": "stdout",
     "output_type": "stream",
     "text": [
      "enter a value: 75\n",
      "6\n"
     ]
    }
   ],
   "source": [
    "#9Q) Find the number of divisors of 75\n",
    "# ans: 1,3,5,15,25,75\n",
    "# Number =6\n",
    "\n",
    "n=eval(input(\"enter a value: \"))\n",
    "i=0\n",
    "c=0\n",
    "while i<n:\n",
    "       i=i+1\n",
    "       if n%i==0:\n",
    "        c=c+1\n",
    "\n",
    "print(c)\n"
   ]
  },
  {
   "cell_type": "code",
   "execution_count": 5,
   "id": "0f8bda9b",
   "metadata": {},
   "outputs": [
    {
     "name": "stdout",
     "output_type": "stream",
     "text": [
      "enter a value: 4\n",
      "fail\n",
      "the no. of chances left 2\n",
      "enter a value: 58\n",
      "fail\n",
      "the no. of chances left 2\n",
      "enter a value: 4\n",
      "fail\n",
      "the no. of chances left 2\n",
      "enter a value: 9\n",
      "fail\n",
      "the no. of chances left 2\n",
      "try again after 24 hours\n"
     ]
    }
   ],
   "source": [
    "# 10Q)\n",
    "# Get a random number between  1 to 10 :  num1\n",
    "# Ask the user enter a number : num2\n",
    "# if num1 == num2  then print won\n",
    "# else print fail\n",
    "\n",
    "# Give 3 chances\n",
    "\n",
    "# Case-2: whenever you won the code should stop\n",
    "\n",
    "# Case-3:\n",
    "# Suppose i want to give 4 chances\n",
    "# Every time you fail I want to display\n",
    "#      Number of chances left\n",
    "\n",
    "# If all the chances you are used\n",
    "#    Try again after 24 hours\n",
    "\n",
    "# If you are win\n",
    "\n",
    "import random\n",
    "i=1\n",
    "c=0\n",
    "while i<3:\n",
    "    n2=eval(input(\"enter a value: \"))\n",
    "    n1=random.randint(1,10)\n",
    "    if n1==n2:\n",
    "        print(\"won\")\n",
    "        break\n",
    "    else:\n",
    "        print(\"fail\")\n",
    "        c=c+1\n",
    "        print(\"the no. of chances left\",3-i)\n",
    "        if c>3:\n",
    "            print(\"try again after 24 hours\")\n",
    "            break\n",
    "\n"
   ]
  },
  {
   "cell_type": "code",
   "execution_count": 1,
   "id": "e6f7ae6f",
   "metadata": {},
   "outputs": [
    {
     "name": "stdout",
     "output_type": "stream",
     "text": [
      "3\n",
      "3\n",
      "3\n",
      "3\n",
      "0\n",
      "even count 1\n",
      "odd count 4\n"
     ]
    }
   ],
   "source": [
    "#11q)# wap ask the user get 5 random numbers\n",
    "# Get it is an even number or odd number\n",
    "# also count how many even numbers are there\n",
    "# and  count how many odd numbers are there\n",
    "\n",
    "# Idea\n",
    "# take two counters one even and odd count\n",
    "# For loop 5 times\n",
    "# each time take the random number\n",
    "# If condition\n",
    "#    True counter update\n",
    "# else\n",
    "#   Update the counter\n",
    "\n",
    "import random\n",
    "even_c=0\n",
    "odd_c=0\n",
    "i=0\n",
    "while i<5:\n",
    "    i=i+1\n",
    "    n=random.randint(0,5)\n",
    "    if n%2==0:\n",
    "        print(n)\n",
    "        even_c=even_c+1\n",
    "    else:\n",
    "        print(n)\n",
    "        odd_c=odd_c+1\n",
    "print(\"even count\",even_c)\n",
    "print(\"odd count\",odd_c)\n"
   ]
  }
 ],
 "metadata": {
  "kernelspec": {
   "display_name": "Python 3 (ipykernel)",
   "language": "python",
   "name": "python3"
  },
  "language_info": {
   "codemirror_mode": {
    "name": "ipython",
    "version": 3
   },
   "file_extension": ".py",
   "mimetype": "text/x-python",
   "name": "python",
   "nbconvert_exporter": "python",
   "pygments_lexer": "ipython3",
   "version": "3.10.9"
  }
 },
 "nbformat": 4,
 "nbformat_minor": 5
}
