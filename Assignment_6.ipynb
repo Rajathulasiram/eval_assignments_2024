{
 "cells": [
  {
   "cell_type": "code",
   "execution_count": 1,
   "id": "6661b8fe",
   "metadata": {},
   "outputs": [
    {
     "name": "stdout",
     "output_type": "stream",
     "text": [
      "600\n"
     ]
    }
   ],
   "source": [
    "#case-1\n",
    "def addition(n1,n2=100):\n",
    "    add=n1+n2\n",
    "    print(add)\n",
    "addition(500)\n",
    "# first we defining the function\n",
    "# while define the function we given n2=100\n",
    "# now we are calling the function"
   ]
  },
  {
   "cell_type": "code",
   "execution_count": 2,
   "id": "f1fed000",
   "metadata": {},
   "outputs": [
    {
     "name": "stdout",
     "output_type": "stream",
     "text": [
      "300\n"
     ]
    }
   ],
   "source": [
    "#case-2\n",
    "def addition(n1,n2=100):\n",
    "    add=n1+n2\n",
    "    print(add)\n",
    "addition(100,200)\n",
    "\n",
    "# First we defing the function\n",
    "# while defining the function we given n2=100\n",
    "# now we are calling the function\n",
    "# while we are calling the function n2=200\n",
    "# so value will be overwrite\n",
    "# python always takes latest value\n"
   ]
  },
  {
   "cell_type": "code",
   "execution_count": 3,
   "id": "46e6886a",
   "metadata": {},
   "outputs": [
    {
     "name": "stdout",
     "output_type": "stream",
     "text": [
      "400\n"
     ]
    }
   ],
   "source": [
    "#case-3\n",
    "def addition (n1,n2=100):\n",
    "    n2=300\n",
    "    add=n1+n2\n",
    "    print(add)\n",
    "addition(100,200)\n",
    "\n",
    "# define the function n2=100\n",
    "# call the function   n2=200\n",
    "# running the function n2=300"
   ]
  },
  {
   "cell_type": "code",
   "execution_count": 5,
   "id": "9351ee7f",
   "metadata": {},
   "outputs": [
    {
     "name": "stdout",
     "output_type": "stream",
     "text": [
      "400\n"
     ]
    }
   ],
   "source": [
    "#case-4\n",
    "def addition(n1,n2=100):\n",
    "    n2=300\n",
    "    add=n1+n2\n",
    "    print(add)\n",
    "n2=400\n",
    "addition(100,200)\n",
    "\n",
    "# define the function n2=100\n",
    "# call the function n2=200\n",
    "# taken n2=400 outside the function\n",
    "# running the function n2=300\n",
    "# n2=100 ===> 400 ===>200 ===>400"
   ]
  },
  {
   "cell_type": "code",
   "execution_count": 9,
   "id": "c5d996f5",
   "metadata": {},
   "outputs": [
    {
     "name": "stdout",
     "output_type": "stream",
     "text": [
      "1100\n"
     ]
    }
   ],
   "source": [
    "# case-5\n",
    "n1=500\n",
    "n2=1000\n",
    "def addition(n1=100):\n",
    "    add=n1+n2\n",
    "    print(add)\n",
    "    \n",
    "addition()\n",
    "\n",
    "# step-1: firstly mentioned the global variables\n",
    "# step-2: here defing the n31 value as 500\n",
    "          # because its adefault value\n",
    "          # here we defined default value in local variable\n",
    "          # the default will not effected by the global value \n",
    "# step-3:  calling the function with value n1=500\n",
    "# step-4:  running the function global variable n1=500 is overrided with the value 100\n",
    "# n1=500------->100=1100\n"
   ]
  },
  {
   "cell_type": "code",
   "execution_count": 14,
   "id": "3005e427",
   "metadata": {},
   "outputs": [
    {
     "name": "stdout",
     "output_type": "stream",
     "text": [
      "4000\n"
     ]
    }
   ],
   "source": [
    "#case-6\n",
    "a=100\n",
    "b=200\n",
    "def add(a=1000,b=200):\n",
    "    add1=a+b\n",
    "    print(add1)\n",
    "add(a=2000,b=2000)\n",
    "\n",
    "# while defing the function only one arguement is there\n",
    "# while calling we provide two arguements.\n"
   ]
  },
  {
   "cell_type": "code",
   "execution_count": 15,
   "id": "0af0b4fb",
   "metadata": {},
   "outputs": [
    {
     "name": "stdout",
     "output_type": "stream",
     "text": [
      "2200\n"
     ]
    }
   ],
   "source": [
    "# case-7\n",
    "a=100\n",
    "b=200\n",
    "def add(a=1000):\n",
    "    add1=a+b\n",
    "    print(add1)\n",
    "add(a=2000)\n",
    "\n",
    "# step-1: firstly mentioned the global variables\n",
    "# step-2: defining the b as 200\n",
    "# step-3: later while calling the function the value is reassigned as 2000\n",
    "# step-4: running the function\n",
    "#here the value of a=1000 is overrided to 2000\n",
    "# because while calling which value is assigned that will be executed.\n",
    "# a=100------>1000-------.2000=2000\n"
   ]
  },
  {
   "cell_type": "code",
   "execution_count": 16,
   "id": "f3701c44",
   "metadata": {},
   "outputs": [
    {
     "name": "stdout",
     "output_type": "stream",
     "text": [
      "5200\n"
     ]
    }
   ],
   "source": [
    "#case-8\n",
    "a=100\n",
    "b=200\n",
    "def add(a=1000):\n",
    "    a=5000\n",
    "    add1=a+b\n",
    "    print(add1)\n",
    "add(a=2000)\n",
    "\n",
    "# step-1: firstly mentioned the global variables\n",
    "#step-2: here the default value set to 1000 so the function wi;ll ve change  here\n",
    "#step-3:  in this step a is assigned as 5000\n",
    "            # as we know assigned the value inside the function has the more priority\n",
    "            # so here value will be overrided\n",
    "#step-4: actually here calliong value is 2000 but due to assining the value overrided\n",
    "#step-5:  running the function\n",
    "# a=100------>2000--->5000=5200"
   ]
  },
  {
   "cell_type": "code",
   "execution_count": 17,
   "id": "0d17c11c",
   "metadata": {},
   "outputs": [
    {
     "name": "stdout",
     "output_type": "stream",
     "text": [
      "5200\n"
     ]
    }
   ],
   "source": [
    "a=100\n",
    "b=200\n",
    "def addition(a=1000):\n",
    "    a=5000\n",
    "    add=a+b\n",
    "    print(add)\n",
    "a=6000\n",
    "addition(a=2000)\n",
    "\n",
    "\n",
    "# step-1: firstly mentioned the global variables\n",
    "#step-2:  here a is defined as 1000\n",
    "----------MAIN POINT-----------------------#\n",
    "#step-3:  here the value assigned in the function thet means local variable\n",
    "            # so value changed 5000(a)\n",
    "            # value value a=6000 will not considering the global variable inside the local will not added\n",
    "            # calling the function  a=2000\n",
    "# here the called value has no use becoz the assigned value inside the function has more priority \n",
    "#step-4:   running the function\n",
    "# a=100------>2000--------->5000=5200"
   ]
  },
  {
   "cell_type": "code",
   "execution_count": 18,
   "id": "215087b5",
   "metadata": {},
   "outputs": [
    {
     "name": "stdout",
     "output_type": "stream",
     "text": [
      "6200\n"
     ]
    }
   ],
   "source": [
    "# case-10\n",
    "b=200\n",
    "def add():\n",
    "    add1=a+b\n",
    "    print(add1)\n",
    "a=6000\n",
    "add()\n",
    "\n",
    "# step-1: mentioning thr initially\n",
    "# step-2: here a=6000 value mentioned in the global with in the local variable\n",
    "# so value which assigned in the local variable will be considered\n",
    "#  calling the function\n",
    "#  running the function"
   ]
  }
 ],
 "metadata": {
  "kernelspec": {
   "display_name": "Python 3 (ipykernel)",
   "language": "python",
   "name": "python3"
  },
  "language_info": {
   "codemirror_mode": {
    "name": "ipython",
    "version": 3
   },
   "file_extension": ".py",
   "mimetype": "text/x-python",
   "name": "python",
   "nbconvert_exporter": "python",
   "pygments_lexer": "ipython3",
   "version": "3.10.9"
  }
 },
 "nbformat": 4,
 "nbformat_minor": 5
}
