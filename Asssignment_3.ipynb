{
 "cells": [
  {
   "cell_type": "code",
   "execution_count": 1,
   "id": "c6f5ef50",
   "metadata": {},
   "outputs": [
    {
     "name": "stdout",
     "output_type": "stream",
     "text": [
      "Enter the value: 1000\n",
      "1600.0\n"
     ]
    }
   ],
   "source": [
    "'''Ramesh’s basic salary is input through the keyboard. \n",
    "His dearness allowance is 40% of basic salary, and\n",
    "house rent allowance is 20% of basic salary.\n",
    "Write a program to calculate his gross salary'''\n",
    "\n",
    "salary=eval(input(\"Enter the value: \"))\n",
    "allowance=(40/100)*salary\n",
    "house_rent=(20/100)*salary\n",
    "gross_salary=salary+allowance+house_rent\n",
    "print(gross_salary)\n"
   ]
  },
  {
   "cell_type": "code",
   "execution_count": 4,
   "id": "c98c1d32",
   "metadata": {},
   "outputs": [
    {
     "name": "stdout",
     "output_type": "stream",
     "text": [
      "Enter the value: 1\n",
      "the distance in meters and feets and inches,cm: (1000, 3280.84, 39370.1, 100000)\n"
     ]
    }
   ],
   "source": [
    "'''The distance between two cities (in km.) \n",
    "is input through the keyboard. \n",
    "Write a program to convert and\n",
    "print this distance in meters, feet, inches and centimeters.'''\n",
    "\n",
    "distance=eval(input(\"Enter the value: \"))\n",
    "meters=distance*1000\n",
    "feets=distance*3280.84\n",
    "inches=distance*39370.1\n",
    "cm=distance*100000\n",
    "print( f\"the distance in meters and feets and inches,cm: {meters,feets,inches,cm}\")\n"
   ]
  },
  {
   "cell_type": "code",
   "execution_count": 5,
   "id": "f62e2472",
   "metadata": {},
   "outputs": [
    {
     "name": "stdout",
     "output_type": "stream",
     "text": [
      "enter the marks: 50\n",
      "enter the marks: 50\n",
      "enter the marks: 55\n",
      "enter the marks: 53\n",
      "enter the marks: 52\n",
      "260\n",
      "52.0\n"
     ]
    }
   ],
   "source": [
    "'''If the marks obtained by a student in \n",
    "five different subjects are input through the\n",
    "keyboard, find out theaggregate marks and \n",
    "percentage marks obtained by the student.\n",
    "Assume that the maximum marks that\n",
    "can be obtained by a student in each subject is 100.'''\n",
    "\n",
    "s1=eval(input(\"enter the marks: \"))\n",
    "s2=eval(input(\"enter the marks: \"))\n",
    "s3=eval(input(\"enter the marks: \"))\n",
    "s4=eval(input(\"enter the marks: \"))\n",
    "s5=eval(input(\"enter the marks: \"))\n",
    "total_marks=s1+s2+s3+s4+s5\n",
    "print(total_marks)\n",
    "percentage=total_marks/(5*100)*100\n",
    "print(percentage)"
   ]
  },
  {
   "cell_type": "code",
   "execution_count": 7,
   "id": "c441fe14",
   "metadata": {},
   "outputs": [
    {
     "name": "stdout",
     "output_type": "stream",
     "text": [
      "enter the value: 98.6\n",
      "37.0\n"
     ]
    }
   ],
   "source": [
    "'''Temperature of a city in Fahrenheit degrees \n",
    "is input through the keyboard. Write a program\n",
    "to convert this temperature into Centigrade degrees.'''\n",
    "\n",
    "temperature=eval(input(\"enter the value: \"))\n",
    "c=(5/9)*(temperature-32)\n",
    "print(c)"
   ]
  },
  {
   "cell_type": "code",
   "execution_count": 1,
   "id": "7fcc28e1",
   "metadata": {},
   "outputs": [
    {
     "name": "stdout",
     "output_type": "stream",
     "text": [
      "enter the value: 5\n",
      "enter the value: 5\n",
      "enter the value: 5\n",
      "the area of rectangle:25 and the circumfence:20\n",
      "area of the circle is :78.525 and ciris:31.41\n"
     ]
    }
   ],
   "source": [
    "'''The length & breadth of a rectangle and radius of\n",
    "a circle are input through the keyboard. Write a program\n",
    "to calculate the area & perimeter of the\n",
    "rectangle, and the area & circumference of the circle.'''\n",
    "\n",
    "l=eval(input(\"enter the value: \"))\n",
    "b=eval(input(\"enter the value: \"))\n",
    "pi=3.141\n",
    "r=eval(input(\"enter the value: \"))\n",
    "rectangle_area=l*b\n",
    "rectangle_circumference=2*(l+b)\n",
    "print(f\"the area of rectangle:{rectangle_area} and the circumfence:{rectangle_circumference}\")\n",
    "area=pi*r*r\n",
    "circumference=2*pi*r\n",
    "print(f\"area of the circle is :{area} and ciris:{circumference}\")\n"
   ]
  },
  {
   "cell_type": "code",
   "execution_count": 2,
   "id": "77f30c95",
   "metadata": {},
   "outputs": [
    {
     "name": "stdout",
     "output_type": "stream",
     "text": [
      "enter the value: 5\n",
      "enter the value: 6\n",
      "6 5\n"
     ]
    }
   ],
   "source": [
    "'''Two numbers are input through the keyboard \n",
    "into two locations C and D. Write a program to interchange\n",
    "the contents of C and D.'''\n",
    "\n",
    "c=eval(input(\"enter the value: \"))\n",
    "d=eval(input(\"enter the value: \"))\n",
    "temp=c\n",
    "c=d      \n",
    "d=temp\n",
    "print(c,d)"
   ]
  },
  {
   "cell_type": "code",
   "execution_count": 4,
   "id": "b5393705",
   "metadata": {},
   "outputs": [
    {
     "name": "stdout",
     "output_type": "stream",
     "text": [
      "enter the value:12345\n",
      "54321\n"
     ]
    }
   ],
   "source": [
    "'''If a five-digit number is input through the keyboard,\n",
    "write a program to reverse the number.'''\n",
    "\n",
    "n=eval(input(\"enter the value:\"))\n",
    "s=str(n)\n",
    "reverse=s[::-1]\n",
    "print(reverse)"
   ]
  },
  {
   "cell_type": "code",
   "execution_count": 12,
   "id": "5e30da6d",
   "metadata": {},
   "outputs": [
    {
     "name": "stdout",
     "output_type": "stream",
     "text": [
      "enter the value: 1234\n",
      "5\n"
     ]
    }
   ],
   "source": [
    "'''If a four-digit number is input through the keyboard, \n",
    "write a program to obtain the sum of the first and last\n",
    "digit of this number.'''\n",
    "\n",
    "n=eval(input(\"enter the value: \"))\n",
    "if n< 1000 and n>9999:\n",
    "    print(\"valid number\")\n",
    "else:\n",
    "    f=n//1000\n",
    "    l=n%10\n",
    "    sum=f +l\n",
    "    print(sum)\n",
    "    \n"
   ]
  },
  {
   "cell_type": "code",
   "execution_count": 30,
   "id": "1de74e82",
   "metadata": {},
   "outputs": [
    {
     "name": "stdout",
     "output_type": "stream",
     "text": [
      "Number of illiterate men: 13600.0\n",
      "Number of illiterate women: 28000.0\n"
     ]
    }
   ],
   "source": [
    "'''In a town, the percentage of men is 52. \n",
    "The percentage of total literacy is 48.\n",
    "If total percentage of literatemen is 35\n",
    "of the total population, write a program to \n",
    "find the total number of illiterate men and women if\n",
    "the population of the town is 80,000.'''\n",
    "\n",
    "\n",
    "total_population = 80000\n",
    "percentage_men = 52\n",
    "percentage_total_literacy = 48\n",
    "percentage_literate_men = 35\n",
    "num_men = (percentage_men / 100) * total_population\n",
    "num_women = total_population - num_men\n",
    "num_literate_men = (percentage_literate_men / 100) * total_population\n",
    "num_illiterate_men = num_men - num_literate_men\n",
    "total_literate = (percentage_total_literacy / 100) * total_population\n",
    "num_literate_women = total_literate - num_literate_men\n",
    "num_illiterate_women = num_women - num_literate_women\n",
    "print(f\"Number of illiterate men: {num_illiterate_men}\")\n",
    "print(f\"Number of illiterate women: {num_illiterate_women}\")\n",
    "\n",
    "\n"
   ]
  },
  {
   "cell_type": "code",
   "execution_count": 17,
   "id": "0cbd1da2",
   "metadata": {},
   "outputs": [
    {
     "name": "stdout",
     "output_type": "stream",
     "text": [
      "Enter the Amount to be Withdrawn :1050\n",
      "No of Hundred Notes : 10\n",
      "No of Fifty Notes : 1\n",
      "No of Ten Notes : 0\n"
     ]
    }
   ],
   "source": [
    "'''A cashier has currency notes of denominations 10, 50 and 100. \n",
    "If the amount to be withdrawn is input\n",
    "through the keyboard in hundreds, find the total number of currency\n",
    "notes of each denomination the\n",
    "cashier will have to give to the withdraw'''\n",
    "\n",
    "amt = int(input(\"Enter the Amount to be Withdrawn :\"))\n",
    "hundred = amt//100\n",
    "amt = amt%100\n",
    "fifty = amt//50\n",
    "amt = amt%50\n",
    "ten = amt//10\n",
    "print(\"No of Hundred Notes :\",hundred)\n",
    "print(\"No of Fifty Notes :\",fifty)\n",
    "print(\"No of Ten Notes :\",ten)"
   ]
  }
 ],
 "metadata": {
  "kernelspec": {
   "display_name": "Python 3 (ipykernel)",
   "language": "python",
   "name": "python3"
  },
  "language_info": {
   "codemirror_mode": {
    "name": "ipython",
    "version": 3
   },
   "file_extension": ".py",
   "mimetype": "text/x-python",
   "name": "python",
   "nbconvert_exporter": "python",
   "pygments_lexer": "ipython3",
   "version": "3.10.9"
  }
 },
 "nbformat": 4,
 "nbformat_minor": 5
}
