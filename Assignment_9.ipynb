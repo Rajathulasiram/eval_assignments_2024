{
 "cells": [
  {
   "cell_type": "code",
   "execution_count": 1,
   "id": "e8997c2d",
   "metadata": {},
   "outputs": [
    {
     "name": "stdout",
     "output_type": "stream",
     "text": [
      "enter the value: 2.58\n",
      "the length  in inches 1.015746\n"
     ]
    }
   ],
   "source": [
    "# 1-Q) Write a program that asks the user to enter a length in centimetres. If the user enters\n",
    "# a negative length, the program should tell the user that the entry is invalid. Otherwise,\n",
    "# the program should convert the length to inches and print out the result. There are\n",
    "# 2.54 centimetres in an inch.\n",
    "\n",
    "length=0\n",
    "n=eval(input(\"enter the value: \"))\n",
    "if n<0:\n",
    "    print(\"enter the valid number\")\n",
    "else:\n",
    "    length=n*0.3937\n",
    "    print(\"the length  in inches\",length)\n",
    "    \n",
    "    "
   ]
  },
  {
   "cell_type": "code",
   "execution_count": 24,
   "id": "36d16114",
   "metadata": {},
   "outputs": [
    {
     "name": "stdout",
     "output_type": "stream",
     "text": [
      "enter the temperature: 98\n",
      "enter the temperatur or celcius: F\n",
      "the value of temperature & celsius is234.0 & \n"
     ]
    }
   ],
   "source": [
    "# 2-Q)Problem-2(Use conditional statements)\n",
    "# Ask the user for a temperature.Then ask them what units, Celsius or Fahrenheit, the\n",
    "# temperature is in. Your program should convert the temperature to the other unit. The\n",
    "# conversions are F = 9 5 C +32 and C = 5 9 (F − 32).\n",
    "s=eval(input(\"enter the temperature: \"))\n",
    "unit=(input(\"enter the temperatur or celcius: \"))\n",
    "convert_tem=0.0\n",
    "convert_cel=''\n",
    "if unit.upper()=='F':\n",
    "    convert_tem=(9/5)*(s+32)\n",
    "elif unit.upper()=='C':\n",
    "    convert_cel=(5/9)*(s-32)\n",
    "else:\n",
    "    print(\"Invalid unit input\")\n",
    "print(f\"the value of temperature & celsius is{convert_tem} & {convert_cel}\")\n"
   ]
  },
  {
   "cell_type": "code",
   "execution_count": 4,
   "id": "38e1f48f",
   "metadata": {},
   "outputs": [
    {
     "name": "stdout",
     "output_type": "stream",
     "text": [
      "enter the value: -273.15\n",
      "the temperature is absolute zero\n"
     ]
    }
   ],
   "source": [
    "#### Problem-3(Use conditional statements)\n",
    "#Ask the user to enter a temperature in Celsius. The program should print a\n",
    "#message based on the temperature:\n",
    "#If the temperature is less than -273.15, print that the temperature is invalid because it is\n",
    "# below absolute zero.\n",
    "# If it is exactly -273.15, print that the temperature is absolute 0.\n",
    "# If the temperature is between -273.15 and 0, print that the temperature is belowfreezing\n",
    "# If it is 0, print that the temperature is at the freezing point.\n",
    "# If it is between 0 and 100, print that the temperature is in the normalrange.\n",
    "# If it is 100, print that the temperature is at the boiling point.\n",
    "# If it is above 100, print that the temperature is above the boiling point.\n",
    "\n",
    "tem=eval(input(\"enter the value: \"))\n",
    "if not tem<=273.15:\n",
    "    print(\"the temperature is invalid because it is below absolute zero.\")\n",
    "elif tem==-273.15:\n",
    "    print(\"the temperature is absolute zero\")\n",
    "elif tem>-273.15 and tem<0:\n",
    "    print(\"he temperature is belowfreezing\")\n",
    "elif tem==0:\n",
    "    print(\"the temperature is at the freezing point\")\n",
    "elif tem<100:\n",
    "    print(\"the temperature is at the boiling point\")\n",
    "else:\n",
    "    print(\"the temperature is above the boiling point\")\n"
   ]
  },
  {
   "cell_type": "code",
   "execution_count": 11,
   "id": "077a8dd9",
   "metadata": {},
   "outputs": [
    {
     "name": "stdout",
     "output_type": "stream",
     "text": [
      "enter the value: 85\n",
      "senior\n"
     ]
    }
   ],
   "source": [
    "#-4-Q) Problem-4(Use conditional statements)\n",
    "# Write a program that asks the user how many credits they have taken. If they have taken 23 or\n",
    "# less, print that the student is a freshman. If they have taken between 24 and 53, print that they\n",
    "# are asophomore. The range for juniors is 54 to 83, and for seniors it is 84 and over.\n",
    "\n",
    "credits=eval(input(\"enter the value: \"))\n",
    "if credits<=23:\n",
    "    print(\"the student is a freshman\")\n",
    "elif credits<53:\n",
    "    print(\"they are asophomore\")\n",
    "elif credits<83:\n",
    "    print(\"juniors\")\n",
    "else :\n",
    "    print(\"senior\")\n",
    "    \n",
    "\n"
   ]
  },
  {
   "cell_type": "code",
   "execution_count": 19,
   "id": "9fe318c1",
   "metadata": {},
   "outputs": [
    {
     "name": "stdout",
     "output_type": "stream",
     "text": [
      "enter the value: 5\n",
      "right\n"
     ]
    }
   ],
   "source": [
    "#-5-Q) Problem-5(Use conditional statements)\n",
    "#Generate a random number between 1 and 10.\n",
    "# Ask the user to guess the number and print a\n",
    "# message based on whether they get it right or not.\n",
    "\n",
    "import random\n",
    "n1=random.randint(1,10)\n",
    "n2=eval(input(\"enter the value: \"))\n",
    "if n1==n2:\n",
    "    print(\"right\")\n",
    "else:\n",
    "    print(\"Not\")\n",
    "        "
   ]
  },
  {
   "cell_type": "code",
   "execution_count": 25,
   "id": "0fda2ab4",
   "metadata": {},
   "outputs": [
    {
     "name": "stdout",
     "output_type": "stream",
     "text": [
      "enter no. of items: 15\n",
      "150\n",
      "the no. of items :15 and total cost is:150\n"
     ]
    }
   ],
   "source": [
    "# Problem-6(Use conditional statements)\n",
    "#A store charges $12 per item if you buy less than 10 items.\n",
    "#If you buy between 10 and 99 items, the cost is $10 per item.\n",
    "# If you buy 100 or more items, the cost is $7 per item.\n",
    "# Write a program that asks the user \n",
    "# how many items they are buying and prints the total cost. <\n",
    "\n",
    "item=eval(input(\"enter no. of items: \"))\n",
    "charge=12\n",
    "if item<10:\n",
    "    cost=item*12\n",
    "    print(cost)\n",
    "elif item>10 and item<99:\n",
    "    cost=item*10\n",
    "    print(cost)\n",
    "elif item>100:\n",
    "    cost=item*7\n",
    "    print(cost)\n",
    "print(f\"the no. of items :{item} and total cost is:{cost}\")\n",
    "\n",
    "\n"
   ]
  },
  {
   "cell_type": "code",
   "execution_count": 14,
   "id": "4225b65a",
   "metadata": {},
   "outputs": [
    {
     "name": "stdout",
     "output_type": "stream",
     "text": [
      "enter the value: 22.5969\n",
      "enter the value: 25.5863\n",
      "not close\n"
     ]
    }
   ],
   "source": [
    "# Problem-7(Use conditional statements)\n",
    "# Write a program that asks the user for two numbers and prints Close \n",
    "# if the numbers are within . \n",
    "# 001of each other and Not close otherwise.\n",
    "\n",
    "n1=eval(input(\"enter the value: \"))\n",
    "n2=eval(input(\"enter the value: \"))\n",
    "d=0.001\n",
    "s=0\n",
    "if n1>n2:\n",
    "    s=n1-n2\n",
    "else:\n",
    "    s=n2-n1\n",
    "if s<=d:\n",
    "    print(\"close\")\n",
    "else:\n",
    "    print(\"not close\")"
   ]
  },
  {
   "cell_type": "code",
   "execution_count": 26,
   "id": "3474f229",
   "metadata": {},
   "outputs": [
    {
     "name": "stdout",
     "output_type": "stream",
     "text": [
      "enter the value: 2024\n",
      "leap\n"
     ]
    }
   ],
   "source": [
    "#Problem-8(Use conditional statements)\n",
    "# A year is a leap year if it is divisible by 4,\n",
    "# except that years divisible by 100 are not leap years\n",
    "# unless they are also divisible by 400.\n",
    "# Write a program that asks the user for a year and\n",
    "# prints out whether it is a leap year or not.\n",
    "\n",
    "year=eval(input(\"enter the value: \"))\n",
    "if year%4==0 and year%100!=0 or year%400==0:\n",
    "    print(\"leap\")\n",
    "else:\n",
    "    print(\"not leap year\")"
   ]
  },
  {
   "cell_type": "code",
   "execution_count": 36,
   "id": "4afa9110",
   "metadata": {},
   "outputs": [
    {
     "name": "stdout",
     "output_type": "stream",
     "text": [
      "enter the number: 15\n",
      "1\n",
      "3\n",
      "5\n",
      "15\n"
     ]
    }
   ],
   "source": [
    "# Problem-9(Use conditional statements)\n",
    "# Write a program that asks the user to enter a number and \n",
    "# prints out all the divisors of that number.\n",
    "# [Hint: the % operator is used to tell if a number is divisible by something.\n",
    "\n",
    "n=eval(input(\"enter the number: \"))\n",
    "for i in range(1,n+1):\n",
    "    if n%i==0:\n",
    "        print(i)"
   ]
  },
  {
   "cell_type": "code",
   "execution_count": 10,
   "id": "ea05271e",
   "metadata": {},
   "outputs": [
    {
     "name": "stdout",
     "output_type": "stream",
     "text": [
      "enter the hour: 8\n",
      "enter the time 1(am) or 2(pm): 2\n",
      "what the hour will be that many hours into the future: 5\n",
      "the new hour is :1 & pm\n"
     ]
    }
   ],
   "source": [
    "# Problem-10(Use conditional statements)\n",
    "# Write a program that asks the user for an hour between 1 and 12, asks them to enter am or pm, \n",
    "# and asks them how many hours into the future they want to go.\n",
    "# Print out what the hour will be that many hours into the future,\n",
    "# printing am or pm as appropriate.\n",
    "# An example is shown below.\n",
    "# Enter hour: 8\n",
    "# am (1) or pm (2)? 1\n",
    "# How many hours ahead? 5\n",
    "# New hour: 1 pm\n",
    "\n",
    "hour=int(input(\"enter the hour: \"))\n",
    "time=int(input(\"enter the time 1(am) or 2(pm): \"))\n",
    "future=int(input(\"what the hour will be that many hours into the future: \"))\n",
    "ahed=hour+future\n",
    "if ahed>=12:\n",
    "    rem=ahed-12\n",
    "if time==1:\n",
    "    time='am'\n",
    "else:\n",
    "    time='pm'\n",
    "print(f\"the new hour is :{rem} & {time}\")\n",
    "    \n",
    "\n",
    "\n",
    "\n"
   ]
  },
  {
   "cell_type": "code",
   "execution_count": null,
   "id": "51572a6e",
   "metadata": {},
   "outputs": [],
   "source": []
  },
  {
   "cell_type": "code",
   "execution_count": null,
   "id": "b15a8d42",
   "metadata": {},
   "outputs": [],
   "source": []
  }
 ],
 "metadata": {
  "kernelspec": {
   "display_name": "Python 3 (ipykernel)",
   "language": "python",
   "name": "python3"
  },
  "language_info": {
   "codemirror_mode": {
    "name": "ipython",
    "version": 3
   },
   "file_extension": ".py",
   "mimetype": "text/x-python",
   "name": "python",
   "nbconvert_exporter": "python",
   "pygments_lexer": "ipython3",
   "version": "3.10.9"
  }
 },
 "nbformat": 4,
 "nbformat_minor": 5
}
