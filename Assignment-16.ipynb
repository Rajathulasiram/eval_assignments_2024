{
 "cells": [
  {
   "cell_type": "markdown",
   "id": "df72d2f8",
   "metadata": {},
   "source": [
    "***1- Write a program that asks the user to enter a string. The program should then print the following:\n",
    "(a) The total number of characters in the string\n",
    "(b) The string repeated 10 times\n",
    "(c) The first character of the string (remember that string indices start at 0) (d) The first three\n",
    "characters of the string\n",
    "(e) The last three characters of the string\n",
    "(f) The string backwards\n",
    "(g) The seventh character of the string if the string is long enough and a message otherwise\n",
    "(h) The string with its first and last characters removed\n",
    "(i) The string in all caps\n",
    "(j) The string with every a replaced with an e***\n",
    "\n"
   ]
  },
  {
   "cell_type": "code",
   "execution_count": 35,
   "id": "10a95e8c",
   "metadata": {},
   "outputs": [
    {
     "name": "stdout",
     "output_type": "stream",
     "text": [
      "kaja\n",
      "4\n"
     ]
    }
   ],
   "source": [
    "(a) The total number of characters in the string\n",
    "str1=input()\n",
    "s=len(str1)\n",
    "print(s)\n",
    "\n"
   ]
  },
  {
   "cell_type": "code",
   "execution_count": 18,
   "id": "4c0d99bc",
   "metadata": {},
   "outputs": [
    {
     "name": "stdout",
     "output_type": "stream",
     "text": [
      "kaja\n",
      "kajakajakajakajakajakajakajakajakajakaja\n"
     ]
    }
   ],
   "source": [
    "#(b) The string repeated 10 times\n",
    "str1=input()\n",
    "s=str1 *10\n",
    "print(s)"
   ]
  },
  {
   "cell_type": "code",
   "execution_count": 36,
   "id": "4dc21a3b",
   "metadata": {},
   "outputs": [
    {
     "name": "stdout",
     "output_type": "stream",
     "text": [
      "k\n"
     ]
    }
   ],
   "source": [
    "(c) The first character of the string \n",
    "if len(str1)>0:\n",
    "    j=str1[0]\n",
    "    print(j)"
   ]
  },
  {
   "cell_type": "code",
   "execution_count": 22,
   "id": "f35dcd5a",
   "metadata": {},
   "outputs": [
    {
     "name": "stdout",
     "output_type": "stream",
     "text": [
      "kaj\n"
     ]
    }
   ],
   "source": [
    "# d)The first three characters of the string\n",
    "if len(str1)>0:\n",
    "    k=str1[:3]\n",
    "    print(k)"
   ]
  },
  {
   "cell_type": "code",
   "execution_count": 30,
   "id": "d1c887da",
   "metadata": {},
   "outputs": [
    {
     "name": "stdout",
     "output_type": "stream",
     "text": [
      "aja\n"
     ]
    }
   ],
   "source": [
    "# e) the last three charcters pf the string\n",
    "if len(str1)>0:\n",
    "    m=str1[-3:]\n",
    "    print(m)"
   ]
  },
  {
   "cell_type": "code",
   "execution_count": 34,
   "id": "2d36a83a",
   "metadata": {},
   "outputs": [
    {
     "name": "stdout",
     "output_type": "stream",
     "text": [
      "ajak\n"
     ]
    }
   ],
   "source": [
    "# (f) The string backwards\n",
    "k=str1[::-1]\n",
    "print(k)"
   ]
  },
  {
   "cell_type": "code",
   "execution_count": 43,
   "id": "f0f4c557",
   "metadata": {},
   "outputs": [
    {
     "name": "stdout",
     "output_type": "stream",
     "text": [
      "kajavaki\n",
      "Seventh character: k\n"
     ]
    }
   ],
   "source": [
    "# (g) The seventh character of the string if the string is long enough and a message otherwise\n",
    "s=input()\n",
    "s1=len(s)\n",
    "if s1>=7:\n",
    "    b= s[6]\n",
    "    print(f\"Seventh character: {b}\")\n",
    "else:\n",
    "    print(\"The string is not long enough to have a seventh character.\")\n"
   ]
  },
  {
   "cell_type": "code",
   "execution_count": 45,
   "id": "636569e5",
   "metadata": {},
   "outputs": [
    {
     "name": "stdout",
     "output_type": "stream",
     "text": [
      "kajavali\n",
      "ajaval\n"
     ]
    }
   ],
   "source": [
    "#(h) The string with its first and last characters removed\n",
    "s=input()\n",
    "s1=s[1:-1]\n",
    "print(s1)"
   ]
  },
  {
   "cell_type": "code",
   "execution_count": 46,
   "id": "fc3fc668",
   "metadata": {},
   "outputs": [
    {
     "name": "stdout",
     "output_type": "stream",
     "text": [
      "kaja\n",
      "KAJA\n"
     ]
    }
   ],
   "source": [
    "# (i) The string in all caps\n",
    "s=input()\n",
    "k=s.upper()\n",
    "print(k)"
   ]
  },
  {
   "cell_type": "code",
   "execution_count": 47,
   "id": "2ec7cce4",
   "metadata": {},
   "outputs": [
    {
     "name": "stdout",
     "output_type": "stream",
     "text": [
      "kajavali\n",
      "kejeveli\n"
     ]
    }
   ],
   "source": [
    "# (j) The string with every a replaced with an e***\n",
    "s=input()\n",
    "k=s.replace('a','e')\n",
    "print(k)"
   ]
  },
  {
   "cell_type": "code",
   "execution_count": 50,
   "id": "6e0d3112",
   "metadata": {},
   "outputs": [
    {
     "name": "stdout",
     "output_type": "stream",
     "text": [
      "kaja vali ,raja\n",
      "3\n"
     ]
    }
   ],
   "source": [
    "# 2. A simple way to estimate the number of words in a string is to count the number of spaces in the\n",
    "#string. Write a program that asks the user for a string and returns an estimate of how many words\n",
    "#are in the string.\n",
    "#Tip: You need to count the number of words using spaces\n",
    "\n",
    "s=input()\n",
    "s1=s.strip()\n",
    "if s1==\"\":\n",
    "    words=0\n",
    "else:\n",
    "    space_c=s.count(' ')\n",
    "    words=space_c+1\n",
    "    print(words)"
   ]
  },
  {
   "cell_type": "code",
   "execution_count": 3,
   "id": "ebab6940",
   "metadata": {},
   "outputs": [
    {
     "name": "stdout",
     "output_type": "stream",
     "text": [
      "enter a word: kwytr hygtfvghb\n",
      "The word does not contain any vowels.\n"
     ]
    }
   ],
   "source": [
    "# 3.Write a program that asks the user to enter a word and prints out whether that word contains any\n",
    "# vowels.\n",
    "\n",
    "word = input(\"enter a word: \")\n",
    "vowels = \"aeiou\"\n",
    "word_lower = word.lower()\n",
    "result = \"The word does not contain any vowels.\"\n",
    "for char in word_lower:\n",
    "    if char in vowels:\n",
    "        result = \"The word contains at least one vowel.\"\n",
    "        break\n",
    "print(result)\n"
   ]
  },
  {
   "cell_type": "code",
   "execution_count": 5,
   "id": "62a96883",
   "metadata": {},
   "outputs": [
    {
     "name": "stdout",
     "output_type": "stream",
     "text": [
      "4\n"
     ]
    }
   ],
   "source": [
    "# 4)-Improvise above code by providing unique vowels\n",
    "str1='hello how are you'\n",
    "s2=''\n",
    "vowels='aeiou'\n",
    "c=0\n",
    "for i in str1:\n",
    "    if i in vowels:\n",
    "        if i not in s2:\n",
    "            s2=s2+i\n",
    "            c=c+1\n",
    "print(c)\n",
    "        \n"
   ]
  },
  {
   "cell_type": "code",
   "execution_count": 7,
   "id": "687bf849",
   "metadata": {},
   "outputs": [
    {
     "name": "stdout",
     "output_type": "stream",
     "text": [
      "Enter your string: how are you\n",
      "Output: h*w are you!!!\n"
     ]
    }
   ],
   "source": [
    "# 5)-rite a program that asks the user to enter a string. The program should create a new string\n",
    "#called new_string from the user’s string such that the second character is changed to an asterisk and\n",
    "#three exclamation points are attached to the end of the string. Finally, print new_string.\n",
    "#Typical output is shown below:\n",
    "#Enter your string: Qbert\n",
    "#Output: Q*ert!!!\n",
    "\n",
    "n=input(\"Enter your string: \")\n",
    "if len(n) < 2:\n",
    "    s = n + \"!!!\"  \n",
    "else:\n",
    "    s = n[0] + '*' + n[2:] + \"!!!\"\n",
    "print(\"Output:\",s)\n"
   ]
  },
  {
   "cell_type": "code",
   "execution_count": 11,
   "id": "21505682",
   "metadata": {},
   "outputs": [
    {
     "name": "stdout",
     "output_type": "stream",
     "text": [
      "enter a word: madam\n",
      "The word is a palindrome.\n"
     ]
    }
   ],
   "source": [
    "# 6. Write a program that asks the user to enter a word and determines whether the word is a\n",
    "#palindrome or not. A palindrome is a word that reads the same backwards as forwards\n",
    "\n",
    "word = input(\"enter a word: \")\n",
    "s = word.lower()\n",
    "if s== s[::-1]:\n",
    "    print(\"The word is a palindrome.\")\n",
    "else:\n",
    "    print(\"The word is not a palindrome.\")\n"
   ]
  },
  {
   "cell_type": "code",
   "execution_count": 15,
   "id": "6fa2c5a1",
   "metadata": {},
   "outputs": [
    {
     "name": "stdout",
     "output_type": "stream",
     "text": [
      "how many mails that you are enter: 2\n",
      "enter the mails:raj@student.colle,edu\n",
      "enter the mails:raju@prof.college.edu\n",
      "some of prof addresse entered\n"
     ]
    }
   ],
   "source": [
    "# 7. At a certain school, student email addresses end with @student.college.edu, while professor\n",
    "#email addresses end with @prof.college.edu. Write a program that first asks the user how many\n",
    "#email addresses they will be entering, and then has the user enter those addresses. After all the\n",
    "#email addresses are entered, the program should print out a message indicating either that all the\n",
    "#addresses are student addresses or that there were some professor addresses entered.\n",
    "\n",
    "emails=int(input(\"how many mails that you are enter: \"))\n",
    "student='@student.college.edu'\n",
    "proffesor='@prof.college.edu'\n",
    "count=0\n",
    "for i in range(emails):\n",
    "    user_mail=input(\"enter the mails:\")\n",
    "    if user_mail[i] in student:\n",
    "        count=count+1\n",
    "else:\n",
    "    print('some of prof addresse entered')"
   ]
  },
  {
   "cell_type": "code",
   "execution_count": 17,
   "id": "3c6f0689",
   "metadata": {},
   "outputs": [
    {
     "name": "stdout",
     "output_type": "stream",
     "text": [
      " HEY\n",
      "HH\n",
      "EE\n",
      "YY\n"
     ]
    }
   ],
   "source": [
    "# 8. Write a program that asks the user to enter a string, then prints out each letter of the string\n",
    "#doubled and on a separate line. For instance,\n",
    "#if the user entered HEY,\n",
    "#the output would be\n",
    "#HH\n",
    "#EE\n",
    "#YY\n",
    "\n",
    "str1=input(\" \")\n",
    "for i in str1:\n",
    "    print(i*2)"
   ]
  },
  {
   "cell_type": "code",
   "execution_count": 20,
   "id": "15d1c627",
   "metadata": {},
   "outputs": [
    {
     "name": "stdout",
     "output_type": "stream",
     "text": [
      " buffalo\n",
      "buffa\n",
      "lo\n"
     ]
    }
   ],
   "source": [
    "#9.Write a program that asks the user to enter a word that contains the letter a. The program should\n",
    "#then print the following two lines: On the first line should be the part of the string up to and\n",
    "#including the the first a, and on the second line should be the rest of the string.\n",
    "#Sample output is shown below:\n",
    "#Enter a word: buffalo\n",
    "#buffa\n",
    "#lo\n",
    "\n",
    "str1=input(\" \")\n",
    "for i in range(len(str1)):\n",
    "    if str1[i]=='a':\n",
    "        word=str1[:i+1]\n",
    "        print(word)\n",
    "        print(str1[i+1:])"
   ]
  },
  {
   "cell_type": "code",
   "execution_count": 21,
   "id": "d094fe41",
   "metadata": {},
   "outputs": [
    {
     "name": "stdout",
     "output_type": "stream",
     "text": [
      "rhinoceros\n"
     ]
    },
    {
     "data": {
      "text/plain": [
       "'rHiNoCeRoS'"
      ]
     },
     "execution_count": 21,
     "metadata": {},
     "output_type": "execute_result"
    }
   ],
   "source": [
    "# 10. Write a program that asks the user to enter a word and then capitalizes every other letter of that\n",
    "#word.\n",
    "#So if the user enters rhinoceros,\n",
    "#the program should print rHiNoCeRoS.\n",
    "str1=input()\n",
    "str2=\"\"\n",
    "for i in range(len(str1)):\n",
    "    if i%2==0:\n",
    "        str2+=str1[i].lower()\n",
    "    else:\n",
    "        str2+=str1[i].upper()\n",
    "str2\n",
    "            "
   ]
  },
  {
   "cell_type": "code",
   "execution_count": 8,
   "id": "7ebe7781",
   "metadata": {},
   "outputs": [
    {
     "name": "stdout",
     "output_type": "stream",
     "text": [
      "abcde\n",
      "ABCDE\n",
      "AaBbCcDdEe\n"
     ]
    }
   ],
   "source": [
    "# 11. Write a program that asks the user to enter two strings of the same length. The program should\n",
    "#then check to see if the strings are of the same length. If they are not, the program should print an\n",
    "#appropriate message and exit. If they are of the same length, the program should alternate the\n",
    "#characters of the two strings. For example,\n",
    "#if the user enters abcde and ABCDE\n",
    "#the program should print out AaBbCcDdEe.\n",
    "\n",
    "\n",
    "str1=input()\n",
    "str2=input()\n",
    "if len(str1)==len(str2):\n",
    "    res=''\n",
    "    for i in range(len(str1)):\n",
    "        res+=str2[i]+str1[i]\n",
    "    print(res)\n",
    "else:\n",
    "    print(\"the two strings sre not same\")"
   ]
  },
  {
   "cell_type": "code",
   "execution_count": 10,
   "id": "ff95f3f7",
   "metadata": {},
   "outputs": [
    {
     "name": "stdout",
     "output_type": "stream",
     "text": [
      "ajay myla\n",
      "AjayMyla\n"
     ]
    }
   ],
   "source": [
    "#12. Write a program that asks the user to enter their name in lowercase and then capitalizes the first\n",
    "#letter of each word of their name.\n",
    "\n",
    "str1=input()\n",
    "str2=str1.split()\n",
    "res=''\n",
    "for i in range(len(str2)):\n",
    "    res+=str2[i].capitalize()\n",
    "print(res)\n",
    "\n",
    "\n",
    "\n",
    "\n",
    "\n"
   ]
  },
  {
   "cell_type": "code",
   "execution_count": 12,
   "id": "684d4f65",
   "metadata": {},
   "outputs": [
    {
     "name": "stdout",
     "output_type": "stream",
     "text": [
      "the count of  is 0\n",
      "the letter a is not present in a string\n"
     ]
    }
   ],
   "source": [
    "#13. The goal of this exercise is to see if you can mimic the behavior of the in operator and the count\n",
    "#and index methods using only variables, for loops, and if statements.\n",
    "#(a) Without using the in operator, write a program that asks the user for a string and a letter\n",
    "#and prints out whether or not the letter appears in the string.\n",
    "#(b) Without using the count method, write a program that asks the user for a string and a\n",
    "#letter and counts how many occurrences there are of the letter in the string.\n",
    "#(c) Without using the index method, write a program that asks the user for a string and a\n",
    "#letter and prints out the index of the first occurrence of the letter in the string. If the letter is\n",
    "#not in the string, the program should say so.\n",
    "str1=(\"enter a string\")\n",
    "str2=(\"\")\n",
    "count=0\n",
    "for i in range(len(str1)):\n",
    "    if str1[i]==str2:\n",
    "        count+=1\n",
    "print(f\"the count of {str2} is {count}\")\n",
    "if count!=0:\n",
    "    print(\"the element is present in a string\")\n",
    "else:\n",
    "    print(\"the letter a is not present in a string\")\n"
   ]
  },
  {
   "cell_type": "code",
   "execution_count": 13,
   "id": "75f416f6",
   "metadata": {},
   "outputs": [
    {
     "name": "stdout",
     "output_type": "stream",
     "text": [
      "stephen.marquard@uct.ac.za Sat Jan 5 09:14:16 2008\n",
      "stephen.marquard@uct.ac.za\n",
      "uct.ac.za\n"
     ]
    }
   ],
   "source": [
    "#14. Finding a substring within a string\n",
    "#From stephen.marquard@uct.ac.za Sat Jan 5 09:14:16 2008\n",
    "#and we wanted to pull out only the second half of the address (i.e., uct.ac.za)\n",
    "\n",
    "str1=input()\n",
    "str2=str1.split()\n",
    "str3=str2[0]\n",
    "print(str3)\n",
    "str4=str3.split('@')[1]\n",
    "print(str4)"
   ]
  },
  {
   "cell_type": "code",
   "execution_count": 12,
   "id": "58021b41",
   "metadata": {},
   "outputs": [
    {
     "name": "stdout",
     "output_type": "stream",
     "text": [
      "string\n",
      "stringly\n"
     ]
    }
   ],
   "source": [
    "# 15. Write a Python program to add &#39;ing&#39; at the end of a given string (length should be at least 3). If the\n",
    "#given string already ends with &#39;ing&#39; then add &#39;ly&#39; instead.\n",
    "#f the string length of the given string is less than 3, leave it unchanged.\n",
    "#Go to the editor\n",
    "#Sample String : &#39;abc&#39;\n",
    "#Expected Result : &#39;abcing&#39;\n",
    "#Sample String : &#39;string&#39;\n",
    "#Expected Result : &#39;stringly&#39;\n",
    "\n",
    "str1=input()\n",
    "if len(str1)>=3:\n",
    "    if str1.endswith('ing'):\n",
    "        str1+='ly'\n",
    "    else:\n",
    "        str1+='ing'\n",
    "print(str1)\n"
   ]
  },
  {
   "cell_type": "code",
   "execution_count": 11,
   "id": "5264201a",
   "metadata": {},
   "outputs": [
    {
     "data": {
      "text/plain": [
       "0.8475"
      ]
     },
     "execution_count": 11,
     "metadata": {},
     "output_type": "execute_result"
    }
   ],
   "source": [
    "# 16. Take the following Python code that stores a string:‘\n",
    "#string = &#39;X-DSPAM-Confidence: 0.8475&#39;\n",
    "#Extract the portion of the string after the colon character and then use the float function to convert\n",
    "#the extracted string into a floating point number.\n",
    "str1='X-DSPAM-Confidence: 0.8475'\n",
    "str2=str1.split(':')\n",
    "float(str2[1])\n",
    "                "
   ]
  }
 ],
 "metadata": {
  "kernelspec": {
   "display_name": "Python 3 (ipykernel)",
   "language": "python",
   "name": "python3"
  },
  "language_info": {
   "codemirror_mode": {
    "name": "ipython",
    "version": 3
   },
   "file_extension": ".py",
   "mimetype": "text/x-python",
   "name": "python",
   "nbconvert_exporter": "python",
   "pygments_lexer": "ipython3",
   "version": "3.10.9"
  }
 },
 "nbformat": 4,
 "nbformat_minor": 5
}
